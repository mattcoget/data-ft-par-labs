{
 "cells": [
  {
   "cell_type": "markdown",
   "metadata": {},
   "source": [
    "# Webscraping on basketreference.com"
   ]
  },
  {
   "cell_type": "markdown",
   "metadata": {},
   "source": [
    "## Scraping for one team Performances per season"
   ]
  },
  {
   "cell_type": "code",
   "execution_count": 1,
   "metadata": {},
   "outputs": [],
   "source": [
    "import requests as r\n",
    "from bs4 import BeautifulSoup\n",
    "import pandas as pd\n",
    "import adaptive\n",
    "import time\n",
    "import numpy as np\n",
    "import matplotlib.pyplot as plt"
   ]
  },
  {
   "cell_type": "code",
   "execution_count": 3,
   "metadata": {},
   "outputs": [],
   "source": [
    "url='https://www.basketball-reference.com/teams/BOS/'"
   ]
  },
  {
   "cell_type": "code",
   "execution_count": 4,
   "metadata": {},
   "outputs": [],
   "source": [
    "response=r.get(url)"
   ]
  },
  {
   "cell_type": "code",
   "execution_count": 5,
   "metadata": {},
   "outputs": [
    {
     "data": {
      "text/plain": [
       "<Response [200]>"
      ]
     },
     "execution_count": 5,
     "metadata": {},
     "output_type": "execute_result"
    }
   ],
   "source": [
    "response"
   ]
  },
  {
   "cell_type": "code",
   "execution_count": 6,
   "metadata": {},
   "outputs": [],
   "source": [
    "celtic_soup=BeautifulSoup(response.content)"
   ]
  },
  {
   "cell_type": "code",
   "execution_count": 7,
   "metadata": {},
   "outputs": [],
   "source": [
    "team=[i.text for i in celtic_soup.select('tbody td.left[data-stat=\"team_name\"]>a')]\n",
    "year =[i.text for i in celtic_soup.select('tbody tr th a')]\n",
    "wins=[i.text for i in celtic_soup.select('tbody td.right[data-stat=\"wins\"]')]\n",
    "losses=[i.text for i in celtic_soup.select('tbody td.right[data-stat=\"losses\"]')]\n",
    "win_loss_pct=[i.text for i in celtic_soup.select('tbody td.right[data-stat=\"win_loss_pct\"]')]\n",
    "srs=[i.text for i in celtic_soup.select('tbody td.right[data-stat=\"srs\"]')]\n",
    "pace=[i.text for i in celtic_soup.select('tbody td.right[data-stat=\"pace\"]')]\n",
    "off_rtg=[i.text for i in celtic_soup.select('tbody td.right[data-stat=\"off_rtg\"]')]\n",
    "def_rtg=[i.text for i in celtic_soup.select('tbody td.right[data-stat=\"def_rtg\"]')]\n",
    "rank_team_playoffs=[i.text for i in celtic_soup.select('tbody td.left[data-stat=\"rank_team_playoffs\"]')]"
   ]
  },
  {
   "cell_type": "code",
   "execution_count": 9,
   "metadata": {},
   "outputs": [],
   "source": [
    "data={\n",
    "    'team':team,\n",
    "    'year':year,\n",
    "    'wins':wins,\n",
    "    'losses':losses,\n",
    "    'win_loss_pct':win_loss_pct,\n",
    "    'srs':srs,\n",
    "    'pace':pace,\n",
    "    'off_rtg':off_rtg,\n",
    "    'def_rtg':def_rtg,\n",
    "    'rank_team_playoffs':rank_team_playoffs    \n",
    "}"
   ]
  },
  {
   "cell_type": "code",
   "execution_count": 10,
   "metadata": {},
   "outputs": [],
   "source": [
    "df=pd.DataFrame(data)"
   ]
  },
  {
   "cell_type": "code",
   "execution_count": 11,
   "metadata": {},
   "outputs": [
    {
     "data": {
      "text/html": [
       "<div>\n",
       "<style scoped>\n",
       "    .dataframe tbody tr th:only-of-type {\n",
       "        vertical-align: middle;\n",
       "    }\n",
       "\n",
       "    .dataframe tbody tr th {\n",
       "        vertical-align: top;\n",
       "    }\n",
       "\n",
       "    .dataframe thead th {\n",
       "        text-align: right;\n",
       "    }\n",
       "</style>\n",
       "<table border=\"1\" class=\"dataframe\">\n",
       "  <thead>\n",
       "    <tr style=\"text-align: right;\">\n",
       "      <th></th>\n",
       "      <th>team</th>\n",
       "      <th>year</th>\n",
       "      <th>wins</th>\n",
       "      <th>losses</th>\n",
       "      <th>win_loss_pct</th>\n",
       "      <th>srs</th>\n",
       "      <th>pace</th>\n",
       "      <th>off_rtg</th>\n",
       "      <th>def_rtg</th>\n",
       "      <th>rank_team_playoffs</th>\n",
       "    </tr>\n",
       "  </thead>\n",
       "  <tbody>\n",
       "    <tr>\n",
       "      <th>0</th>\n",
       "      <td>Boston Celtics</td>\n",
       "      <td>2020-21</td>\n",
       "      <td>0</td>\n",
       "      <td>0</td>\n",
       "      <td></td>\n",
       "      <td></td>\n",
       "      <td></td>\n",
       "      <td></td>\n",
       "      <td></td>\n",
       "      <td></td>\n",
       "    </tr>\n",
       "    <tr>\n",
       "      <th>1</th>\n",
       "      <td>Boston Celtics</td>\n",
       "      <td>2019-20</td>\n",
       "      <td>48</td>\n",
       "      <td>24</td>\n",
       "      <td>.667</td>\n",
       "      <td>5.83</td>\n",
       "      <td>99.5</td>\n",
       "      <td>113.3</td>\n",
       "      <td>107.0</td>\n",
       "      <td>Lost E. Conf. Finals</td>\n",
       "    </tr>\n",
       "    <tr>\n",
       "      <th>2</th>\n",
       "      <td>Boston Celtics</td>\n",
       "      <td>2018-19</td>\n",
       "      <td>49</td>\n",
       "      <td>33</td>\n",
       "      <td>.598</td>\n",
       "      <td>3.90</td>\n",
       "      <td>99.6</td>\n",
       "      <td>112.2</td>\n",
       "      <td>107.8</td>\n",
       "      <td>Lost E. Conf. Semis</td>\n",
       "    </tr>\n",
       "    <tr>\n",
       "      <th>3</th>\n",
       "      <td>Boston Celtics</td>\n",
       "      <td>2017-18</td>\n",
       "      <td>55</td>\n",
       "      <td>27</td>\n",
       "      <td>.671</td>\n",
       "      <td>3.23</td>\n",
       "      <td>96.0</td>\n",
       "      <td>107.6</td>\n",
       "      <td>103.9</td>\n",
       "      <td>Lost E. Conf. Finals</td>\n",
       "    </tr>\n",
       "    <tr>\n",
       "      <th>4</th>\n",
       "      <td>Boston Celtics</td>\n",
       "      <td>2016-17</td>\n",
       "      <td>53</td>\n",
       "      <td>29</td>\n",
       "      <td>.646</td>\n",
       "      <td>2.25</td>\n",
       "      <td>96.8</td>\n",
       "      <td>111.2</td>\n",
       "      <td>108.4</td>\n",
       "      <td>Lost E. Conf. Finals</td>\n",
       "    </tr>\n",
       "  </tbody>\n",
       "</table>\n",
       "</div>"
      ],
      "text/plain": [
       "             team     year wins losses win_loss_pct   srs  pace off_rtg  \\\n",
       "0  Boston Celtics  2020-21    0      0                                    \n",
       "1  Boston Celtics  2019-20   48     24         .667  5.83  99.5   113.3   \n",
       "2  Boston Celtics  2018-19   49     33         .598  3.90  99.6   112.2   \n",
       "3  Boston Celtics  2017-18   55     27         .671  3.23  96.0   107.6   \n",
       "4  Boston Celtics  2016-17   53     29         .646  2.25  96.8   111.2   \n",
       "\n",
       "  def_rtg    rank_team_playoffs  \n",
       "0                                \n",
       "1   107.0  Lost E. Conf. Finals  \n",
       "2   107.8   Lost E. Conf. Semis  \n",
       "3   103.9  Lost E. Conf. Finals  \n",
       "4   108.4  Lost E. Conf. Finals  "
      ]
     },
     "execution_count": 11,
     "metadata": {},
     "output_type": "execute_result"
    }
   ],
   "source": [
    "df.head()"
   ]
  },
  {
   "cell_type": "markdown",
   "metadata": {},
   "source": [
    "## Scraping one team basics stats per season"
   ]
  },
  {
   "cell_type": "code",
   "execution_count": 12,
   "metadata": {},
   "outputs": [],
   "source": [
    "url='https://www.basketball-reference.com/teams/BOS/stats_basic_totals.html'"
   ]
  },
  {
   "cell_type": "code",
   "execution_count": 13,
   "metadata": {},
   "outputs": [],
   "source": [
    "response=r.get(url)"
   ]
  },
  {
   "cell_type": "code",
   "execution_count": 14,
   "metadata": {},
   "outputs": [
    {
     "data": {
      "text/plain": [
       "<Response [200]>"
      ]
     },
     "execution_count": 14,
     "metadata": {},
     "output_type": "execute_result"
    }
   ],
   "source": [
    "response"
   ]
  },
  {
   "cell_type": "code",
   "execution_count": 15,
   "metadata": {},
   "outputs": [],
   "source": [
    "soup=BeautifulSoup(response.content)"
   ]
  },
  {
   "cell_type": "code",
   "execution_count": 16,
   "metadata": {},
   "outputs": [],
   "source": [
    "team=[i.text for i in soup.select('tbody td.left[data-stat=\"team_id\"]>a')]\n",
    "year=[i.text for i in soup.select('tbody tr th a')]\n",
    "points=[i.text for i in soup.select('tbody td.right[data-stat=\"pts\"]')]\n",
    "field_goal=[i.text for i in soup.select('tbody td.right[data-stat=\"fg\"]')]\n",
    "field_goal_pct=[i.text for i in soup.select('tbody td.right[data-stat=\"fg_pct\"]')]\n",
    "rebounds=[i.text for i in soup.select('tbody td.right[data-stat=\"trb\"]')]\n",
    "assists=[i.text for i in soup.select('tbody td.right[data-stat=\"ast\"]')]\n",
    "steals=[i.text for i in soup.select('tbody td.right[data-stat=\"stl\"]')]\n",
    "blocks=[i.text for i in soup.select('tbody td.right[data-stat=\"blk\"]')]\n",
    "turnovers=[i.text for i in soup.select('tbody td.right[data-stat=\"tov\"]')]"
   ]
  },
  {
   "cell_type": "code",
   "execution_count": 17,
   "metadata": {},
   "outputs": [],
   "source": [
    "data={\n",
    "    'team':team,\n",
    "    'year':year,\n",
    "    'points':points,\n",
    "    'field_goal':field_goal,\n",
    "    'field_goal_pct':field_goal_pct,\n",
    "    'rebounds':rebounds,\n",
    "    'assists':assists,\n",
    "    'steals':steals,\n",
    "    'blocks':blocks,\n",
    "    'turnovers':turnovers    \n",
    "}"
   ]
  },
  {
   "cell_type": "code",
   "execution_count": 18,
   "metadata": {},
   "outputs": [],
   "source": [
    "df = pd.DataFrame.from_dict(data, orient='index').transpose()"
   ]
  },
  {
   "cell_type": "code",
   "execution_count": 19,
   "metadata": {},
   "outputs": [
    {
     "data": {
      "text/html": [
       "<div>\n",
       "<style scoped>\n",
       "    .dataframe tbody tr th:only-of-type {\n",
       "        vertical-align: middle;\n",
       "    }\n",
       "\n",
       "    .dataframe tbody tr th {\n",
       "        vertical-align: top;\n",
       "    }\n",
       "\n",
       "    .dataframe thead th {\n",
       "        text-align: right;\n",
       "    }\n",
       "</style>\n",
       "<table border=\"1\" class=\"dataframe\">\n",
       "  <thead>\n",
       "    <tr style=\"text-align: right;\">\n",
       "      <th></th>\n",
       "      <th>team</th>\n",
       "      <th>year</th>\n",
       "      <th>points</th>\n",
       "      <th>field_goal</th>\n",
       "      <th>field_goal_pct</th>\n",
       "      <th>rebounds</th>\n",
       "      <th>assists</th>\n",
       "      <th>steals</th>\n",
       "      <th>blocks</th>\n",
       "      <th>turnovers</th>\n",
       "    </tr>\n",
       "  </thead>\n",
       "  <tbody>\n",
       "    <tr>\n",
       "      <th>0</th>\n",
       "      <td>BOS</td>\n",
       "      <td>2019-20</td>\n",
       "      <td>8183</td>\n",
       "      <td>2971</td>\n",
       "      <td>.461</td>\n",
       "      <td>3317</td>\n",
       "      <td>1655</td>\n",
       "      <td>595</td>\n",
       "      <td>406</td>\n",
       "      <td>995</td>\n",
       "    </tr>\n",
       "    <tr>\n",
       "      <th>1</th>\n",
       "      <td>BOS</td>\n",
       "      <td>2018-19</td>\n",
       "      <td>9216</td>\n",
       "      <td>3451</td>\n",
       "      <td>.465</td>\n",
       "      <td>3653</td>\n",
       "      <td>2155</td>\n",
       "      <td>706</td>\n",
       "      <td>435</td>\n",
       "      <td>1052</td>\n",
       "    </tr>\n",
       "    <tr>\n",
       "      <th>2</th>\n",
       "      <td>BOS</td>\n",
       "      <td>2017-18</td>\n",
       "      <td>8529</td>\n",
       "      <td>3141</td>\n",
       "      <td>.450</td>\n",
       "      <td>3645</td>\n",
       "      <td>1842</td>\n",
       "      <td>604</td>\n",
       "      <td>373</td>\n",
       "      <td>1149</td>\n",
       "    </tr>\n",
       "    <tr>\n",
       "      <th>3</th>\n",
       "      <td>BOS</td>\n",
       "      <td>2016-17</td>\n",
       "      <td>8857</td>\n",
       "      <td>3168</td>\n",
       "      <td>.454</td>\n",
       "      <td>3442</td>\n",
       "      <td>2069</td>\n",
       "      <td>617</td>\n",
       "      <td>340</td>\n",
       "      <td>1088</td>\n",
       "    </tr>\n",
       "    <tr>\n",
       "      <th>4</th>\n",
       "      <td>BOS</td>\n",
       "      <td>2015-16</td>\n",
       "      <td>8669</td>\n",
       "      <td>3216</td>\n",
       "      <td>.439</td>\n",
       "      <td>3683</td>\n",
       "      <td>1981</td>\n",
       "      <td>752</td>\n",
       "      <td>348</td>\n",
       "      <td>1127</td>\n",
       "    </tr>\n",
       "  </tbody>\n",
       "</table>\n",
       "</div>"
      ],
      "text/plain": [
       "  team     year points field_goal field_goal_pct rebounds assists steals  \\\n",
       "0  BOS  2019-20   8183       2971           .461     3317    1655    595   \n",
       "1  BOS  2018-19   9216       3451           .465     3653    2155    706   \n",
       "2  BOS  2017-18   8529       3141           .450     3645    1842    604   \n",
       "3  BOS  2016-17   8857       3168           .454     3442    2069    617   \n",
       "4  BOS  2015-16   8669       3216           .439     3683    1981    752   \n",
       "\n",
       "  blocks turnovers  \n",
       "0    406       995  \n",
       "1    435      1052  \n",
       "2    373      1149  \n",
       "3    340      1088  \n",
       "4    348      1127  "
      ]
     },
     "execution_count": 19,
     "metadata": {},
     "output_type": "execute_result"
    }
   ],
   "source": [
    "df.head()"
   ]
  },
  {
   "cell_type": "markdown",
   "metadata": {},
   "source": [
    "## Scraping all teams performance per season"
   ]
  },
  {
   "cell_type": "markdown",
   "metadata": {},
   "source": [
    "Get the alias and add it to the URL to loop between the different pages and scrap the datas into each of those. "
   ]
  },
  {
   "cell_type": "markdown",
   "metadata": {},
   "source": [
    "Select only the active teams by adding `div[id=\"all_teams_active\"]`"
   ]
  },
  {
   "cell_type": "code",
   "execution_count": 20,
   "metadata": {},
   "outputs": [],
   "source": [
    "# url of the page for all the teams\n",
    "urlpage = 'https://www.basketball-reference.com/teams/'\n",
    "response=(r.get(urlpage))\n",
    "soup = BeautifulSoup(response.content)\n",
    "URL=[i.get(\"href\") for i in soup.select('div[id=\"all_teams_active\"] tbody tr th a')]\n",
    "teams_URL = ['https://www.basketball-reference.com'+i for i in URL]"
   ]
  },
  {
   "cell_type": "markdown",
   "metadata": {},
   "source": [
    "create a dataframe which agregate all the datas for the different teams"
   ]
  },
  {
   "cell_type": "code",
   "execution_count": 21,
   "metadata": {},
   "outputs": [
    {
     "name": "stdout",
     "output_type": "stream",
     "text": [
      "https://www.basketball-reference.com/teams/ATL/ is done!\n",
      "https://www.basketball-reference.com/teams/BOS/ is done!\n",
      "https://www.basketball-reference.com/teams/NJN/ is done!\n",
      "https://www.basketball-reference.com/teams/CHA/ is done!\n",
      "https://www.basketball-reference.com/teams/CHI/ is done!\n",
      "https://www.basketball-reference.com/teams/CLE/ is done!\n",
      "https://www.basketball-reference.com/teams/DAL/ is done!\n",
      "https://www.basketball-reference.com/teams/DEN/ is done!\n",
      "https://www.basketball-reference.com/teams/DET/ is done!\n",
      "https://www.basketball-reference.com/teams/GSW/ is done!\n",
      "https://www.basketball-reference.com/teams/HOU/ is done!\n",
      "https://www.basketball-reference.com/teams/IND/ is done!\n",
      "https://www.basketball-reference.com/teams/LAC/ is done!\n",
      "https://www.basketball-reference.com/teams/LAL/ is done!\n",
      "https://www.basketball-reference.com/teams/MEM/ is done!\n",
      "https://www.basketball-reference.com/teams/MIA/ is done!\n",
      "https://www.basketball-reference.com/teams/MIL/ is done!\n",
      "https://www.basketball-reference.com/teams/MIN/ is done!\n",
      "https://www.basketball-reference.com/teams/NOH/ is done!\n",
      "https://www.basketball-reference.com/teams/NYK/ is done!\n",
      "https://www.basketball-reference.com/teams/OKC/ is done!\n",
      "https://www.basketball-reference.com/teams/ORL/ is done!\n",
      "https://www.basketball-reference.com/teams/PHI/ is done!\n",
      "https://www.basketball-reference.com/teams/PHO/ is done!\n",
      "https://www.basketball-reference.com/teams/POR/ is done!\n",
      "https://www.basketball-reference.com/teams/SAC/ is done!\n",
      "https://www.basketball-reference.com/teams/SAS/ is done!\n",
      "https://www.basketball-reference.com/teams/TOR/ is done!\n",
      "https://www.basketball-reference.com/teams/UTA/ is done!\n",
      "https://www.basketball-reference.com/teams/WAS/ is done!\n"
     ]
    }
   ],
   "source": [
    "df_teams=pd.DataFrame()\n",
    "for i in teams_URL:\n",
    "    response=r.get(i)\n",
    "    time.sleep(5)\n",
    "    soup=(BeautifulSoup(response.content))\n",
    "    team=[i.text for i in soup.select('tbody td.left[data-stat=\"team_name\"]>a')]\n",
    "    year =[i.text for i in soup.select('tbody tr th a')]\n",
    "    wins=[i.text for i in soup.select('tbody td.right[data-stat=\"wins\"]')]\n",
    "    losses=[i.text for i in soup.select('tbody td.right[data-stat=\"losses\"]')]\n",
    "    win_loss_pct=[i.text for i in soup.select('tbody td.right[data-stat=\"win_loss_pct\"]')]\n",
    "    srs=[i.text for i in soup.select('tbody td.right[data-stat=\"srs\"]')]\n",
    "    pace=[i.text for i in soup.select('tbody td.right[data-stat=\"pace\"]')]\n",
    "    off_rtg=[i.text for i in soup.select('tbody td.right[data-stat=\"off_rtg\"]')]\n",
    "    def_rtg=[i.text for i in soup.select('tbody td.right[data-stat=\"def_rtg\"]')]\n",
    "    rank_team_playoffs=[i.text for i in soup.select('tbody td.left[data-stat=\"rank_team_playoffs\"]')]\n",
    "    data={\n",
    "    'team':team,\n",
    "    'year':year,\n",
    "    'wins':wins,\n",
    "    'losses':losses,\n",
    "    'win_loss_pct':win_loss_pct,\n",
    "    'srs':srs,\n",
    "    'pace':pace,\n",
    "    'off_rtg':off_rtg,\n",
    "    'def_rtg':def_rtg,\n",
    "    'rank_team_playoffs':rank_team_playoffs    \n",
    "}\n",
    "    df=pd.DataFrame(data)\n",
    "    df_teams=df_teams.append(df)\n",
    "    print(i, \"is done!\")"
   ]
  },
  {
   "cell_type": "code",
   "execution_count": 22,
   "metadata": {},
   "outputs": [
    {
     "data": {
      "text/plain": [
       "(1573, 10)"
      ]
     },
     "execution_count": 22,
     "metadata": {},
     "output_type": "execute_result"
    }
   ],
   "source": [
    "df_teams.shape"
   ]
  },
  {
   "cell_type": "code",
   "execution_count": 23,
   "metadata": {},
   "outputs": [
    {
     "data": {
      "text/html": [
       "<div>\n",
       "<style scoped>\n",
       "    .dataframe tbody tr th:only-of-type {\n",
       "        vertical-align: middle;\n",
       "    }\n",
       "\n",
       "    .dataframe tbody tr th {\n",
       "        vertical-align: top;\n",
       "    }\n",
       "\n",
       "    .dataframe thead th {\n",
       "        text-align: right;\n",
       "    }\n",
       "</style>\n",
       "<table border=\"1\" class=\"dataframe\">\n",
       "  <thead>\n",
       "    <tr style=\"text-align: right;\">\n",
       "      <th></th>\n",
       "      <th>team</th>\n",
       "      <th>year</th>\n",
       "      <th>wins</th>\n",
       "      <th>losses</th>\n",
       "      <th>win_loss_pct</th>\n",
       "      <th>srs</th>\n",
       "      <th>pace</th>\n",
       "      <th>off_rtg</th>\n",
       "      <th>def_rtg</th>\n",
       "      <th>rank_team_playoffs</th>\n",
       "    </tr>\n",
       "  </thead>\n",
       "  <tbody>\n",
       "    <tr>\n",
       "      <th>28</th>\n",
       "      <td>Chicago Bulls</td>\n",
       "      <td>1992-93</td>\n",
       "      <td>57</td>\n",
       "      <td>25</td>\n",
       "      <td>.695</td>\n",
       "      <td>6.19</td>\n",
       "      <td>92.5</td>\n",
       "      <td>112.9</td>\n",
       "      <td>106.1</td>\n",
       "      <td>Won Finals</td>\n",
       "    </tr>\n",
       "    <tr>\n",
       "      <th>44</th>\n",
       "      <td>Cleveland Cavaliers</td>\n",
       "      <td>1976-77</td>\n",
       "      <td>43</td>\n",
       "      <td>39</td>\n",
       "      <td>.524</td>\n",
       "      <td>1.08</td>\n",
       "      <td>101.5</td>\n",
       "      <td>100.0</td>\n",
       "      <td>98.9</td>\n",
       "      <td>Lost E. Conf. 1st Rnd.</td>\n",
       "    </tr>\n",
       "    <tr>\n",
       "      <th>18</th>\n",
       "      <td>Los Angeles Lakers</td>\n",
       "      <td>2002-03</td>\n",
       "      <td>50</td>\n",
       "      <td>32</td>\n",
       "      <td>.610</td>\n",
       "      <td>2.71</td>\n",
       "      <td>92.5</td>\n",
       "      <td>107.2</td>\n",
       "      <td>104.7</td>\n",
       "      <td>Lost W. Conf. Semis</td>\n",
       "    </tr>\n",
       "    <tr>\n",
       "      <th>40</th>\n",
       "      <td>San Diego Clippers</td>\n",
       "      <td>1980-81</td>\n",
       "      <td>36</td>\n",
       "      <td>46</td>\n",
       "      <td>.439</td>\n",
       "      <td>-1.78</td>\n",
       "      <td>100.2</td>\n",
       "      <td>106.0</td>\n",
       "      <td>107.6</td>\n",
       "      <td></td>\n",
       "    </tr>\n",
       "    <tr>\n",
       "      <th>4</th>\n",
       "      <td>New York Knicks</td>\n",
       "      <td>2016-17</td>\n",
       "      <td>31</td>\n",
       "      <td>51</td>\n",
       "      <td>.378</td>\n",
       "      <td>-3.87</td>\n",
       "      <td>96.0</td>\n",
       "      <td>107.7</td>\n",
       "      <td>111.5</td>\n",
       "      <td></td>\n",
       "    </tr>\n",
       "    <tr>\n",
       "      <th>3</th>\n",
       "      <td>Oklahoma City Thunder</td>\n",
       "      <td>2017-18</td>\n",
       "      <td>48</td>\n",
       "      <td>34</td>\n",
       "      <td>.585</td>\n",
       "      <td>3.42</td>\n",
       "      <td>96.7</td>\n",
       "      <td>110.7</td>\n",
       "      <td>107.2</td>\n",
       "      <td>Lost W. Conf. 1st Rnd.</td>\n",
       "    </tr>\n",
       "    <tr>\n",
       "      <th>64</th>\n",
       "      <td>Philadelphia Warriors</td>\n",
       "      <td>1956-57</td>\n",
       "      <td>37</td>\n",
       "      <td>35</td>\n",
       "      <td>.514</td>\n",
       "      <td>1.54</td>\n",
       "      <td>108.0</td>\n",
       "      <td>92.4</td>\n",
       "      <td>90.9</td>\n",
       "      <td>Lost E. Div. Semis</td>\n",
       "    </tr>\n",
       "    <tr>\n",
       "      <th>29</th>\n",
       "      <td>New York Knicks</td>\n",
       "      <td>1991-92</td>\n",
       "      <td>51</td>\n",
       "      <td>31</td>\n",
       "      <td>.622</td>\n",
       "      <td>3.67</td>\n",
       "      <td>92.9</td>\n",
       "      <td>108.3</td>\n",
       "      <td>104.2</td>\n",
       "      <td>Lost E. Conf. Semis</td>\n",
       "    </tr>\n",
       "    <tr>\n",
       "      <th>0</th>\n",
       "      <td>Sacramento Kings</td>\n",
       "      <td>2020-21</td>\n",
       "      <td>0</td>\n",
       "      <td>0</td>\n",
       "      <td></td>\n",
       "      <td></td>\n",
       "      <td></td>\n",
       "      <td></td>\n",
       "      <td></td>\n",
       "      <td></td>\n",
       "    </tr>\n",
       "    <tr>\n",
       "      <th>20</th>\n",
       "      <td>Denver Nuggets</td>\n",
       "      <td>2000-01</td>\n",
       "      <td>40</td>\n",
       "      <td>42</td>\n",
       "      <td>.488</td>\n",
       "      <td>-1.83</td>\n",
       "      <td>92.6</td>\n",
       "      <td>103.7</td>\n",
       "      <td>106.3</td>\n",
       "      <td></td>\n",
       "    </tr>\n",
       "  </tbody>\n",
       "</table>\n",
       "</div>"
      ],
      "text/plain": [
       "                     team     year wins losses win_loss_pct    srs   pace  \\\n",
       "28          Chicago Bulls  1992-93   57     25         .695   6.19   92.5   \n",
       "44    Cleveland Cavaliers  1976-77   43     39         .524   1.08  101.5   \n",
       "18     Los Angeles Lakers  2002-03   50     32         .610   2.71   92.5   \n",
       "40     San Diego Clippers  1980-81   36     46         .439  -1.78  100.2   \n",
       "4         New York Knicks  2016-17   31     51         .378  -3.87   96.0   \n",
       "3   Oklahoma City Thunder  2017-18   48     34         .585   3.42   96.7   \n",
       "64  Philadelphia Warriors  1956-57   37     35         .514   1.54  108.0   \n",
       "29        New York Knicks  1991-92   51     31         .622   3.67   92.9   \n",
       "0        Sacramento Kings  2020-21    0      0                              \n",
       "20         Denver Nuggets  2000-01   40     42         .488  -1.83   92.6   \n",
       "\n",
       "   off_rtg def_rtg      rank_team_playoffs  \n",
       "28   112.9   106.1              Won Finals  \n",
       "44   100.0    98.9  Lost E. Conf. 1st Rnd.  \n",
       "18   107.2   104.7     Lost W. Conf. Semis  \n",
       "40   106.0   107.6                          \n",
       "4    107.7   111.5                          \n",
       "3    110.7   107.2  Lost W. Conf. 1st Rnd.  \n",
       "64    92.4    90.9      Lost E. Div. Semis  \n",
       "29   108.3   104.2     Lost E. Conf. Semis  \n",
       "0                                           \n",
       "20   103.7   106.3                          "
      ]
     },
     "execution_count": 23,
     "metadata": {},
     "output_type": "execute_result"
    }
   ],
   "source": [
    "df_teams.sample(10)"
   ]
  },
  {
   "cell_type": "markdown",
   "metadata": {},
   "source": [
    "## Scraping all teams basic stats per season"
   ]
  },
  {
   "cell_type": "code",
   "execution_count": 24,
   "metadata": {},
   "outputs": [],
   "source": [
    "# url of the page for all the teams\n",
    "urlpage = 'https://www.basketball-reference.com/teams/'\n",
    "response=(r.get(urlpage))\n",
    "time.sleep(1)\n",
    "soup = BeautifulSoup(response.content)\n",
    "URL=[i.get(\"href\") for i in soup.select('div[id=\"all_teams_active\"] tbody tr th a')]\n",
    "teams_URL = ['https://www.basketball-reference.com'+i+'stats_basic_totals.html' for i in URL]"
   ]
  },
  {
   "cell_type": "code",
   "execution_count": 25,
   "metadata": {},
   "outputs": [
    {
     "name": "stdout",
     "output_type": "stream",
     "text": [
      "https://www.basketball-reference.com/teams/ATL/stats_basic_totals.html is done!\n",
      "https://www.basketball-reference.com/teams/BOS/stats_basic_totals.html is done!\n",
      "https://www.basketball-reference.com/teams/NJN/stats_basic_totals.html is done!\n",
      "https://www.basketball-reference.com/teams/CHA/stats_basic_totals.html is done!\n",
      "https://www.basketball-reference.com/teams/CHI/stats_basic_totals.html is done!\n",
      "https://www.basketball-reference.com/teams/CLE/stats_basic_totals.html is done!\n",
      "https://www.basketball-reference.com/teams/DAL/stats_basic_totals.html is done!\n",
      "https://www.basketball-reference.com/teams/DEN/stats_basic_totals.html is done!\n",
      "https://www.basketball-reference.com/teams/DET/stats_basic_totals.html is done!\n",
      "https://www.basketball-reference.com/teams/GSW/stats_basic_totals.html is done!\n",
      "https://www.basketball-reference.com/teams/HOU/stats_basic_totals.html is done!\n",
      "https://www.basketball-reference.com/teams/IND/stats_basic_totals.html is done!\n",
      "https://www.basketball-reference.com/teams/LAC/stats_basic_totals.html is done!\n",
      "https://www.basketball-reference.com/teams/LAL/stats_basic_totals.html is done!\n",
      "https://www.basketball-reference.com/teams/MEM/stats_basic_totals.html is done!\n",
      "https://www.basketball-reference.com/teams/MIA/stats_basic_totals.html is done!\n",
      "https://www.basketball-reference.com/teams/MIL/stats_basic_totals.html is done!\n",
      "https://www.basketball-reference.com/teams/MIN/stats_basic_totals.html is done!\n",
      "https://www.basketball-reference.com/teams/NOH/stats_basic_totals.html is done!\n",
      "https://www.basketball-reference.com/teams/NYK/stats_basic_totals.html is done!\n",
      "https://www.basketball-reference.com/teams/OKC/stats_basic_totals.html is done!\n",
      "https://www.basketball-reference.com/teams/ORL/stats_basic_totals.html is done!\n",
      "https://www.basketball-reference.com/teams/PHI/stats_basic_totals.html is done!\n",
      "https://www.basketball-reference.com/teams/PHO/stats_basic_totals.html is done!\n",
      "https://www.basketball-reference.com/teams/POR/stats_basic_totals.html is done!\n",
      "https://www.basketball-reference.com/teams/SAC/stats_basic_totals.html is done!\n",
      "https://www.basketball-reference.com/teams/SAS/stats_basic_totals.html is done!\n",
      "https://www.basketball-reference.com/teams/TOR/stats_basic_totals.html is done!\n",
      "https://www.basketball-reference.com/teams/UTA/stats_basic_totals.html is done!\n",
      "https://www.basketball-reference.com/teams/WAS/stats_basic_totals.html is done!\n"
     ]
    }
   ],
   "source": [
    "df_basic_stats=pd.DataFrame()\n",
    "for i in teams_URL:\n",
    "    response=r.get(i)\n",
    "    time.sleep(5)\n",
    "    soup=(BeautifulSoup(response.content))\n",
    "    team=[i.text for i in soup.select('tbody td.left[data-stat=\"team_id\"]>a')]\n",
    "    year=[i.text for i in soup.select('tbody tr th a')]\n",
    "    points=[i.text for i in soup.select('tbody td.right[data-stat=\"pts\"]')]\n",
    "    field_goal=[i.text for i in soup.select('tbody td.right[data-stat=\"fg\"]')]\n",
    "    field_goal_pct=[i.text for i in soup.select('tbody td.right[data-stat=\"fg_pct\"]')]\n",
    "    rebounds=[i.text for i in soup.select('tbody td.right[data-stat=\"trb\"]')]\n",
    "    assists=[i.text for i in soup.select('tbody td.right[data-stat=\"ast\"]')]\n",
    "    steals=[i.text for i in soup.select('tbody td.right[data-stat=\"stl\"]')]\n",
    "    blocks=[i.text for i in soup.select('tbody td.right[data-stat=\"blk\"]')]\n",
    "    turnovers=[i.text for i in soup.select('tbody td.right[data-stat=\"tov\"]')]\n",
    "    data={\n",
    "    'team':team,\n",
    "    'year':year,\n",
    "    'points':points,\n",
    "    'field_goal':field_goal,\n",
    "    'field_goal_pct':field_goal_pct,\n",
    "    'rebounds':rebounds,\n",
    "    'assists':assists,\n",
    "    'steals':steals,\n",
    "    'blocks':blocks,\n",
    "    'turnovers':turnovers    \n",
    "}\n",
    "    df=pd.DataFrame.from_dict(data, orient='index').transpose()\n",
    "    df_basic_stats=df_basic_stats.append(df)\n",
    "    print(i, \"is done!\")"
   ]
  },
  {
   "cell_type": "code",
   "execution_count": 26,
   "metadata": {},
   "outputs": [
    {
     "data": {
      "text/html": [
       "<div>\n",
       "<style scoped>\n",
       "    .dataframe tbody tr th:only-of-type {\n",
       "        vertical-align: middle;\n",
       "    }\n",
       "\n",
       "    .dataframe tbody tr th {\n",
       "        vertical-align: top;\n",
       "    }\n",
       "\n",
       "    .dataframe thead th {\n",
       "        text-align: right;\n",
       "    }\n",
       "</style>\n",
       "<table border=\"1\" class=\"dataframe\">\n",
       "  <thead>\n",
       "    <tr style=\"text-align: right;\">\n",
       "      <th></th>\n",
       "      <th>team</th>\n",
       "      <th>year</th>\n",
       "      <th>points</th>\n",
       "      <th>field_goal</th>\n",
       "      <th>field_goal_pct</th>\n",
       "      <th>rebounds</th>\n",
       "      <th>assists</th>\n",
       "      <th>steals</th>\n",
       "      <th>blocks</th>\n",
       "      <th>turnovers</th>\n",
       "    </tr>\n",
       "  </thead>\n",
       "  <tbody>\n",
       "    <tr>\n",
       "      <th>36</th>\n",
       "      <td>MIL</td>\n",
       "      <td>1983-84</td>\n",
       "      <td>8666</td>\n",
       "      <td>3432</td>\n",
       "      <td>.492</td>\n",
       "      <td>3520</td>\n",
       "      <td>2113</td>\n",
       "      <td>642</td>\n",
       "      <td>489</td>\n",
       "      <td>1415</td>\n",
       "    </tr>\n",
       "    <tr>\n",
       "      <th>36</th>\n",
       "      <td>DET</td>\n",
       "      <td>1983-84</td>\n",
       "      <td>9602</td>\n",
       "      <td>3798</td>\n",
       "      <td>.480</td>\n",
       "      <td>3861</td>\n",
       "      <td>2256</td>\n",
       "      <td>697</td>\n",
       "      <td>417</td>\n",
       "      <td>1310</td>\n",
       "    </tr>\n",
       "    <tr>\n",
       "      <th>52</th>\n",
       "      <td>BAL</td>\n",
       "      <td>1967-68</td>\n",
       "      <td>9627</td>\n",
       "      <td>3691</td>\n",
       "      <td>.438</td>\n",
       "      <td>5431</td>\n",
       "      <td>1534</td>\n",
       "      <td></td>\n",
       "      <td></td>\n",
       "      <td></td>\n",
       "    </tr>\n",
       "    <tr>\n",
       "      <th>43</th>\n",
       "      <td>BUF</td>\n",
       "      <td>1976-77</td>\n",
       "      <td>8612</td>\n",
       "      <td>3366</td>\n",
       "      <td>.450</td>\n",
       "      <td>3836</td>\n",
       "      <td>1883</td>\n",
       "      <td>683</td>\n",
       "      <td>392</td>\n",
       "      <td>1699</td>\n",
       "    </tr>\n",
       "    <tr>\n",
       "      <th>19</th>\n",
       "      <td>DET</td>\n",
       "      <td>2000-01</td>\n",
       "      <td>7837</td>\n",
       "      <td>2919</td>\n",
       "      <td>.424</td>\n",
       "      <td>3734</td>\n",
       "      <td>1629</td>\n",
       "      <td>613</td>\n",
       "      <td>447</td>\n",
       "      <td>1304</td>\n",
       "    </tr>\n",
       "    <tr>\n",
       "      <th>65</th>\n",
       "      <td>ROC</td>\n",
       "      <td>1954-55</td>\n",
       "      <td>6535</td>\n",
       "      <td>2399</td>\n",
       "      <td>.399</td>\n",
       "      <td>3904</td>\n",
       "      <td>1695</td>\n",
       "      <td></td>\n",
       "      <td></td>\n",
       "      <td></td>\n",
       "    </tr>\n",
       "    <tr>\n",
       "      <th>28</th>\n",
       "      <td>POR</td>\n",
       "      <td>1991-92</td>\n",
       "      <td>9135</td>\n",
       "      <td>3476</td>\n",
       "      <td>.473</td>\n",
       "      <td>3843</td>\n",
       "      <td>2065</td>\n",
       "      <td>753</td>\n",
       "      <td>410</td>\n",
       "      <td>1328</td>\n",
       "    </tr>\n",
       "    <tr>\n",
       "      <th>17</th>\n",
       "      <td>NYK</td>\n",
       "      <td>2002-03</td>\n",
       "      <td>7860</td>\n",
       "      <td>2967</td>\n",
       "      <td>.441</td>\n",
       "      <td>3218</td>\n",
       "      <td>1800</td>\n",
       "      <td>579</td>\n",
       "      <td>255</td>\n",
       "      <td>1149</td>\n",
       "    </tr>\n",
       "    <tr>\n",
       "      <th>42</th>\n",
       "      <td>CLE</td>\n",
       "      <td>1977-78</td>\n",
       "      <td>8561</td>\n",
       "      <td>3496</td>\n",
       "      <td>.454</td>\n",
       "      <td>3863</td>\n",
       "      <td>1740</td>\n",
       "      <td>692</td>\n",
       "      <td>455</td>\n",
       "      <td>1382</td>\n",
       "    </tr>\n",
       "    <tr>\n",
       "      <th>9</th>\n",
       "      <td>PHI</td>\n",
       "      <td>2010-11</td>\n",
       "      <td>8119</td>\n",
       "      <td>3125</td>\n",
       "      <td>.461</td>\n",
       "      <td>3428</td>\n",
       "      <td>1861</td>\n",
       "      <td>621</td>\n",
       "      <td>355</td>\n",
       "      <td>1063</td>\n",
       "    </tr>\n",
       "  </tbody>\n",
       "</table>\n",
       "</div>"
      ],
      "text/plain": [
       "   team     year points field_goal field_goal_pct rebounds assists steals  \\\n",
       "36  MIL  1983-84   8666       3432           .492     3520    2113    642   \n",
       "36  DET  1983-84   9602       3798           .480     3861    2256    697   \n",
       "52  BAL  1967-68   9627       3691           .438     5431    1534          \n",
       "43  BUF  1976-77   8612       3366           .450     3836    1883    683   \n",
       "19  DET  2000-01   7837       2919           .424     3734    1629    613   \n",
       "65  ROC  1954-55   6535       2399           .399     3904    1695          \n",
       "28  POR  1991-92   9135       3476           .473     3843    2065    753   \n",
       "17  NYK  2002-03   7860       2967           .441     3218    1800    579   \n",
       "42  CLE  1977-78   8561       3496           .454     3863    1740    692   \n",
       "9   PHI  2010-11   8119       3125           .461     3428    1861    621   \n",
       "\n",
       "   blocks turnovers  \n",
       "36    489      1415  \n",
       "36    417      1310  \n",
       "52                   \n",
       "43    392      1699  \n",
       "19    447      1304  \n",
       "65                   \n",
       "28    410      1328  \n",
       "17    255      1149  \n",
       "42    455      1382  \n",
       "9     355      1063  "
      ]
     },
     "execution_count": 26,
     "metadata": {},
     "output_type": "execute_result"
    }
   ],
   "source": [
    "df_basic_stats.sample(10)"
   ]
  },
  {
   "cell_type": "markdown",
   "metadata": {},
   "source": [
    "The difference of 30 rows between the 2 DataFrames is related to the addition of a row for the 2020-21 season for all the franchises in the team performance index."
   ]
  },
  {
   "cell_type": "markdown",
   "metadata": {},
   "source": [
    "# Data Cleaning"
   ]
  },
  {
   "cell_type": "markdown",
   "metadata": {},
   "source": [
    "## Performances per season DataFrame"
   ]
  },
  {
   "cell_type": "markdown",
   "metadata": {},
   "source": [
    "### Info about the DataFrame"
   ]
  },
  {
   "cell_type": "code",
   "execution_count": 27,
   "metadata": {},
   "outputs": [
    {
     "data": {
      "text/plain": [
       "(1573, 10)"
      ]
     },
     "execution_count": 27,
     "metadata": {},
     "output_type": "execute_result"
    }
   ],
   "source": [
    "df_teams.shape"
   ]
  },
  {
   "cell_type": "code",
   "execution_count": 28,
   "metadata": {},
   "outputs": [
    {
     "name": "stdout",
     "output_type": "stream",
     "text": [
      "<class 'pandas.core.frame.DataFrame'>\n",
      "Int64Index: 1573 entries, 0 to 59\n",
      "Data columns (total 10 columns):\n",
      " #   Column              Non-Null Count  Dtype \n",
      "---  ------              --------------  ----- \n",
      " 0   team                1573 non-null   object\n",
      " 1   year                1573 non-null   object\n",
      " 2   wins                1573 non-null   object\n",
      " 3   losses              1573 non-null   object\n",
      " 4   win_loss_pct        1573 non-null   object\n",
      " 5   srs                 1573 non-null   object\n",
      " 6   pace                1573 non-null   object\n",
      " 7   off_rtg             1573 non-null   object\n",
      " 8   def_rtg             1573 non-null   object\n",
      " 9   rank_team_playoffs  1573 non-null   object\n",
      "dtypes: object(10)\n",
      "memory usage: 135.2+ KB\n"
     ]
    }
   ],
   "source": [
    "df_teams.info()"
   ]
  },
  {
   "cell_type": "code",
   "execution_count": 29,
   "metadata": {},
   "outputs": [
    {
     "data": {
      "text/html": [
       "<div>\n",
       "<style scoped>\n",
       "    .dataframe tbody tr th:only-of-type {\n",
       "        vertical-align: middle;\n",
       "    }\n",
       "\n",
       "    .dataframe tbody tr th {\n",
       "        vertical-align: top;\n",
       "    }\n",
       "\n",
       "    .dataframe thead th {\n",
       "        text-align: right;\n",
       "    }\n",
       "</style>\n",
       "<table border=\"1\" class=\"dataframe\">\n",
       "  <thead>\n",
       "    <tr style=\"text-align: right;\">\n",
       "      <th></th>\n",
       "      <th>team</th>\n",
       "      <th>year</th>\n",
       "      <th>wins</th>\n",
       "      <th>losses</th>\n",
       "      <th>win_loss_pct</th>\n",
       "      <th>srs</th>\n",
       "      <th>pace</th>\n",
       "      <th>off_rtg</th>\n",
       "      <th>def_rtg</th>\n",
       "      <th>rank_team_playoffs</th>\n",
       "    </tr>\n",
       "  </thead>\n",
       "  <tbody>\n",
       "    <tr>\n",
       "      <th>count</th>\n",
       "      <td>1573</td>\n",
       "      <td>1573</td>\n",
       "      <td>1573</td>\n",
       "      <td>1573</td>\n",
       "      <td>1573</td>\n",
       "      <td>1573</td>\n",
       "      <td>1573</td>\n",
       "      <td>1573</td>\n",
       "      <td>1573</td>\n",
       "      <td>1573</td>\n",
       "    </tr>\n",
       "    <tr>\n",
       "      <th>unique</th>\n",
       "      <td>62</td>\n",
       "      <td>75</td>\n",
       "      <td>66</td>\n",
       "      <td>64</td>\n",
       "      <td>225</td>\n",
       "      <td>1003</td>\n",
       "      <td>360</td>\n",
       "      <td>288</td>\n",
       "      <td>275</td>\n",
       "      <td>22</td>\n",
       "    </tr>\n",
       "    <tr>\n",
       "      <th>top</th>\n",
       "      <td>New York Knicks</td>\n",
       "      <td>2018-19</td>\n",
       "      <td>41</td>\n",
       "      <td>41</td>\n",
       "      <td>.500</td>\n",
       "      <td></td>\n",
       "      <td></td>\n",
       "      <td></td>\n",
       "      <td></td>\n",
       "      <td></td>\n",
       "    </tr>\n",
       "    <tr>\n",
       "      <th>freq</th>\n",
       "      <td>75</td>\n",
       "      <td>30</td>\n",
       "      <td>59</td>\n",
       "      <td>56</td>\n",
       "      <td>58</td>\n",
       "      <td>30</td>\n",
       "      <td>50</td>\n",
       "      <td>50</td>\n",
       "      <td>50</td>\n",
       "      <td>665</td>\n",
       "    </tr>\n",
       "  </tbody>\n",
       "</table>\n",
       "</div>"
      ],
      "text/plain": [
       "                   team     year  wins losses win_loss_pct   srs  pace  \\\n",
       "count              1573     1573  1573   1573         1573  1573  1573   \n",
       "unique               62       75    66     64          225  1003   360   \n",
       "top     New York Knicks  2018-19    41     41         .500               \n",
       "freq                 75       30    59     56           58    30    50   \n",
       "\n",
       "       off_rtg def_rtg rank_team_playoffs  \n",
       "count     1573    1573               1573  \n",
       "unique     288     275                 22  \n",
       "top                                        \n",
       "freq        50      50                665  "
      ]
     },
     "execution_count": 29,
     "metadata": {},
     "output_type": "execute_result"
    }
   ],
   "source": [
    "df_teams.describe()"
   ]
  },
  {
   "cell_type": "markdown",
   "metadata": {},
   "source": [
    "**What must be changed**\n",
    "\n",
    "1. Need to drop the rows 2020-21 for each team: the season didn't even start.\n",
    "2. Problem with the values, because it's objects and not int or float. \n",
    "    - Need to change columns wins and losses to integer\n",
    "    - Need to change columns win_loss_pct, srs, pace, off_rtg and def_rtg to float.\n",
    "3. The rank_team_playoffs column must be normalize to help the data analysis something less specific to each season: as the league changed many times, different names have been used for the same stages.\n",
    "\n",
    "To avoid problems with the DataFrame if there is a problem, a backup copy has to be done."
   ]
  },
  {
   "cell_type": "code",
   "execution_count": 30,
   "metadata": {},
   "outputs": [],
   "source": [
    "backup=df_teams.copy()"
   ]
  },
  {
   "cell_type": "markdown",
   "metadata": {},
   "source": [
    "### Drop season 2020-21"
   ]
  },
  {
   "cell_type": "code",
   "execution_count": 31,
   "metadata": {},
   "outputs": [
    {
     "data": {
      "text/plain": [
       "30"
      ]
     },
     "execution_count": 31,
     "metadata": {},
     "output_type": "execute_result"
    }
   ],
   "source": [
    "df_teams.year[df_teams.year == '2020-21'].count()"
   ]
  },
  {
   "cell_type": "code",
   "execution_count": 32,
   "metadata": {},
   "outputs": [],
   "source": [
    "df_teams=df_teams.drop(df_teams[df_teams.year == '2020-21'].index, axis=0)"
   ]
  },
  {
   "cell_type": "code",
   "execution_count": 33,
   "metadata": {},
   "outputs": [
    {
     "data": {
      "text/plain": [
       "(1543, 10)"
      ]
     },
     "execution_count": 33,
     "metadata": {},
     "output_type": "execute_result"
    }
   ],
   "source": [
    "df_teams.shape"
   ]
  },
  {
   "cell_type": "markdown",
   "metadata": {},
   "source": [
    "The 30 rows 2020-21 have been dropped, for each present franchise in NBA."
   ]
  },
  {
   "cell_type": "markdown",
   "metadata": {},
   "source": [
    "### Change the values to Int & Float\n",
    "\n",
    "For the moment, every columns contains objects. That's why describe don't give any useful values.\n",
    "So the values for the analysis could be done."
   ]
  },
  {
   "cell_type": "code",
   "execution_count": 34,
   "metadata": {},
   "outputs": [
    {
     "data": {
      "text/plain": [
       "team                  object\n",
       "year                  object\n",
       "wins                  object\n",
       "losses                object\n",
       "win_loss_pct          object\n",
       "srs                   object\n",
       "pace                  object\n",
       "off_rtg               object\n",
       "def_rtg               object\n",
       "rank_team_playoffs    object\n",
       "dtype: object"
      ]
     },
     "execution_count": 34,
     "metadata": {},
     "output_type": "execute_result"
    }
   ],
   "source": [
    "df_teams.dtypes"
   ]
  },
  {
   "cell_type": "code",
   "execution_count": 35,
   "metadata": {},
   "outputs": [],
   "source": [
    "df_teams=df_teams.astype({\"wins\": int, \"losses\": int})"
   ]
  },
  {
   "cell_type": "code",
   "execution_count": 36,
   "metadata": {},
   "outputs": [
    {
     "name": "stdout",
     "output_type": "stream",
     "text": [
      "<class 'pandas.core.frame.DataFrame'>\n",
      "Int64Index: 1543 entries, 1 to 59\n",
      "Data columns (total 10 columns):\n",
      " #   Column              Non-Null Count  Dtype \n",
      "---  ------              --------------  ----- \n",
      " 0   team                1543 non-null   object\n",
      " 1   year                1543 non-null   object\n",
      " 2   wins                1543 non-null   int32 \n",
      " 3   losses              1543 non-null   int32 \n",
      " 4   win_loss_pct        1543 non-null   object\n",
      " 5   srs                 1543 non-null   object\n",
      " 6   pace                1543 non-null   object\n",
      " 7   off_rtg             1543 non-null   object\n",
      " 8   def_rtg             1543 non-null   object\n",
      " 9   rank_team_playoffs  1543 non-null   object\n",
      "dtypes: int32(2), object(8)\n",
      "memory usage: 120.5+ KB\n"
     ]
    }
   ],
   "source": [
    "df_teams.info()"
   ]
  },
  {
   "cell_type": "code",
   "execution_count": 37,
   "metadata": {
    "scrolled": false
   },
   "outputs": [
    {
     "name": "stdout",
     "output_type": "stream",
     "text": [
      "<class 'pandas.core.frame.DataFrame'>\n",
      "Int64Index: 1543 entries, 1 to 59\n",
      "Data columns (total 10 columns):\n",
      " #   Column              Non-Null Count  Dtype  \n",
      "---  ------              --------------  -----  \n",
      " 0   team                1543 non-null   object \n",
      " 1   year                1543 non-null   object \n",
      " 2   wins                1543 non-null   int32  \n",
      " 3   losses              1543 non-null   int32  \n",
      " 4   win_loss_pct        1543 non-null   float32\n",
      " 5   srs                 1543 non-null   float32\n",
      " 6   pace                1523 non-null   float32\n",
      " 7   off_rtg             1523 non-null   float32\n",
      " 8   def_rtg             1523 non-null   float32\n",
      " 9   rank_team_playoffs  1543 non-null   object \n",
      "dtypes: float32(5), int32(2), object(3)\n",
      "memory usage: 90.4+ KB\n"
     ]
    }
   ],
   "source": [
    "df_teams=df_teams.astype({\"wins\": int, \"losses\": int})\n",
    "df_teams['win_loss_pct']=pd.to_numeric(df_teams['win_loss_pct'], downcast='float')\n",
    "df_teams['srs']=pd.to_numeric(df_teams['srs'], downcast='float')\n",
    "df_teams['pace']=pd.to_numeric(df_teams['pace'], downcast='float')\n",
    "df_teams['off_rtg']=pd.to_numeric(df_teams['off_rtg'], downcast='float')\n",
    "df_teams['def_rtg']=pd.to_numeric(df_teams['def_rtg'], downcast='float')\n",
    "\n",
    "df_teams.info()"
   ]
  },
  {
   "cell_type": "markdown",
   "metadata": {},
   "source": [
    "The columns used for the analyse will are changed, the others will be use in another way.\n",
    "\n",
    "Now is it possible to normalize the `rank_team_playoffs` column?"
   ]
  },
  {
   "cell_type": "code",
   "execution_count": 38,
   "metadata": {},
   "outputs": [
    {
     "data": {
      "text/plain": [
       "array(['', 'Lost E. Conf. 1st Rnd.', 'Lost E. Conf. Semis',\n",
       "       'Lost E. Conf. Finals', 'Lost W. Div. Finals',\n",
       "       'Lost W. Div. Semis', 'Lost Finals', 'Won Finals',\n",
       "       'Lost E. Div. Finals', 'Lost E. Div. Semis', 'Lost Quarterfinals',\n",
       "       'Lost W. Conf. 1st Rnd.', 'Lost W. Conf. Finals',\n",
       "       'Lost W. Conf. Semis', 'Lost W. Div. Tiebreaker',\n",
       "       'Eliminated in W. Div. Rnd. Robin', 'Lost Central Div. Finals',\n",
       "       'Lost 1st Rnd.', 'Lost E. Div. Third Place Tiebreaker',\n",
       "       'Eliminated in E. Div. Rnd. Robin', 'Lost Semis',\n",
       "       'Lost Central Div. Semis'], dtype=object)"
      ]
     },
     "execution_count": 38,
     "metadata": {},
     "output_type": "execute_result"
    }
   ],
   "source": [
    "# What are the differents values?\n",
    "df_teams.rank_team_playoffs.unique()"
   ]
  },
  {
   "cell_type": "markdown",
   "metadata": {},
   "source": [
    "It's not relevant to know if a team lose at East or West, so those elements can be replaced.\n",
    "Empty means \"no playoffs\", so it can be replaced by that \n",
    "To simplify the analysis, the different values will be replaced by `'No playoffs'` `'Lost Conf. Semis Rnd.'` `'Lost Conf. Finals'` `'Lost Finals'` `'Won Finals`."
   ]
  },
  {
   "cell_type": "code",
   "execution_count": 41,
   "metadata": {},
   "outputs": [
    {
     "data": {
      "text/plain": [
       "array(['No playoffs', 'Lost Conf. 1st Rnd.', 'Lost Conf. Semis Rnd.',\n",
       "       'Lost Conf. Finals', 'Lost Finals', 'Won Finals'], dtype=object)"
      ]
     },
     "execution_count": 41,
     "metadata": {},
     "output_type": "execute_result"
    }
   ],
   "source": [
    "df_teams.rank_team_playoffs=df_teams.rank_team_playoffs.replace('', 'No playoffs')\n",
    "df_teams.rank_team_playoffs=df_teams.rank_team_playoffs.replace('Lost E. Conf. 1st Rnd.', 'Lost Conf. 1st Rnd.')\n",
    "df_teams.rank_team_playoffs=df_teams.rank_team_playoffs.replace('Lost W. Conf. 1st Rnd.', 'Lost Conf. 1st Rnd.')\n",
    "df_teams.rank_team_playoffs=df_teams.rank_team_playoffs.replace('Lost E. Conf. Semis', 'Lost Conf. Semis Rnd.')\n",
    "df_teams.rank_team_playoffs=df_teams.rank_team_playoffs.replace('Lost W. Conf. Semis', 'Lost Conf. Semis Rnd.')\n",
    "df_teams.rank_team_playoffs=df_teams.rank_team_playoffs.replace('Lost E. Div. Semis', 'Lost Conf. Semis Rnd.')\n",
    "df_teams.rank_team_playoffs=df_teams.rank_team_playoffs.replace('Lost Central Div. Semis', 'Lost Conf. Semis Rnd.')\n",
    "df_teams.rank_team_playoffs=df_teams.rank_team_playoffs.replace('Lost W. Div. Semis', 'Lost Conf. Semis Rnd.')\n",
    "df_teams.rank_team_playoffs=df_teams.rank_team_playoffs.replace('Lost E. Div. Finals', 'Lost Conf. Finals')\n",
    "df_teams.rank_team_playoffs=df_teams.rank_team_playoffs.replace('Lost E. Conf. Finals', 'Lost Conf. Finals')\n",
    "df_teams.rank_team_playoffs=df_teams.rank_team_playoffs.replace('Lost W. Conf. Finals', 'Lost Conf. Finals')\n",
    "df_teams.rank_team_playoffs=df_teams.rank_team_playoffs.replace('Lost Central Div. Finals', 'Lost Conf. Semis Rnd.')\n",
    "df_teams.rank_team_playoffs=df_teams.rank_team_playoffs.replace('Lost W. Div. Finals', 'Lost Conf. Finals')\n",
    "df_teams.rank_team_playoffs=df_teams.rank_team_playoffs.replace('Lost Quarterfinals', 'Lost Conf. Semis Rnd.')\n",
    "df_teams.rank_team_playoffs=df_teams.rank_team_playoffs.replace('Lost Semis', 'Lost Conf. Finals')\n",
    "df_teams.rank_team_playoffs=df_teams.rank_team_playoffs.replace('Lost E. Div. Third Place Tiebreaker', 'No playoffs')\n",
    "df_teams.rank_team_playoffs=df_teams.rank_team_playoffs.replace('Lost W. Div. Tiebreaker', 'No playoffs')\n",
    "df_teams.rank_team_playoffs=df_teams.rank_team_playoffs.replace('Eliminated in E. Div. Rnd. Robin', 'No playoffs')\n",
    "df_teams.rank_team_playoffs=df_teams.rank_team_playoffs.replace('Eliminated in W. Div. Rnd. Robin', 'No playoffs')\n",
    "df_teams.rank_team_playoffs=df_teams.rank_team_playoffs.replace('Lost 1st Rnd.', 'Lost Conf. 1st Rnd.')\n",
    "\n",
    "df_teams.rank_team_playoffs.unique()"
   ]
  },
  {
   "cell_type": "code",
   "execution_count": 42,
   "metadata": {},
   "outputs": [
    {
     "data": {
      "text/plain": [
       "6"
      ]
     },
     "execution_count": 42,
     "metadata": {},
     "output_type": "execute_result"
    }
   ],
   "source": [
    "df_teams.rank_team_playoffs.nunique()"
   ]
  },
  {
   "cell_type": "markdown",
   "metadata": {},
   "source": [
    "Now that the DataFrame is normalized, it will be more useful and easier for the analysis."
   ]
  },
  {
   "cell_type": "markdown",
   "metadata": {},
   "source": [
    "### New Index\n",
    "\n",
    "The index must be in the alphabethical order for the moment to help the next steps."
   ]
  },
  {
   "cell_type": "code",
   "execution_count": 43,
   "metadata": {},
   "outputs": [
    {
     "data": {
      "text/html": [
       "<div>\n",
       "<style scoped>\n",
       "    .dataframe tbody tr th:only-of-type {\n",
       "        vertical-align: middle;\n",
       "    }\n",
       "\n",
       "    .dataframe tbody tr th {\n",
       "        vertical-align: top;\n",
       "    }\n",
       "\n",
       "    .dataframe thead th {\n",
       "        text-align: right;\n",
       "    }\n",
       "</style>\n",
       "<table border=\"1\" class=\"dataframe\">\n",
       "  <thead>\n",
       "    <tr style=\"text-align: right;\">\n",
       "      <th></th>\n",
       "      <th>team</th>\n",
       "      <th>year</th>\n",
       "      <th>wins</th>\n",
       "      <th>losses</th>\n",
       "      <th>win_loss_pct</th>\n",
       "      <th>srs</th>\n",
       "      <th>pace</th>\n",
       "      <th>off_rtg</th>\n",
       "      <th>def_rtg</th>\n",
       "      <th>rank_team_playoffs</th>\n",
       "    </tr>\n",
       "  </thead>\n",
       "  <tbody>\n",
       "    <tr>\n",
       "      <th>67</th>\n",
       "      <td>Philadelphia Warriors</td>\n",
       "      <td>1953-54</td>\n",
       "      <td>29</td>\n",
       "      <td>43</td>\n",
       "      <td>0.403</td>\n",
       "      <td>-1.89</td>\n",
       "      <td>89.400002</td>\n",
       "      <td>86.699997</td>\n",
       "      <td>89.000000</td>\n",
       "      <td>No playoffs</td>\n",
       "    </tr>\n",
       "    <tr>\n",
       "      <th>21</th>\n",
       "      <td>Seattle SuperSonics</td>\n",
       "      <td>1999-00</td>\n",
       "      <td>45</td>\n",
       "      <td>37</td>\n",
       "      <td>0.549</td>\n",
       "      <td>1.17</td>\n",
       "      <td>93.400002</td>\n",
       "      <td>105.599998</td>\n",
       "      <td>104.599998</td>\n",
       "      <td>Lost Conf. 1st Rnd.</td>\n",
       "    </tr>\n",
       "    <tr>\n",
       "      <th>43</th>\n",
       "      <td>Detroit Pistons</td>\n",
       "      <td>1977-78</td>\n",
       "      <td>38</td>\n",
       "      <td>44</td>\n",
       "      <td>0.463</td>\n",
       "      <td>-1.22</td>\n",
       "      <td>107.699997</td>\n",
       "      <td>100.300003</td>\n",
       "      <td>101.500000</td>\n",
       "      <td>No playoffs</td>\n",
       "    </tr>\n",
       "    <tr>\n",
       "      <th>25</th>\n",
       "      <td>San Antonio Spurs</td>\n",
       "      <td>1995-96</td>\n",
       "      <td>59</td>\n",
       "      <td>23</td>\n",
       "      <td>0.720</td>\n",
       "      <td>5.98</td>\n",
       "      <td>93.300003</td>\n",
       "      <td>110.199997</td>\n",
       "      <td>103.500000</td>\n",
       "      <td>Lost Conf. Semis Rnd.</td>\n",
       "    </tr>\n",
       "    <tr>\n",
       "      <th>32</th>\n",
       "      <td>Washington Bullets</td>\n",
       "      <td>1988-89</td>\n",
       "      <td>40</td>\n",
       "      <td>42</td>\n",
       "      <td>0.488</td>\n",
       "      <td>-1.77</td>\n",
       "      <td>100.800003</td>\n",
       "      <td>106.400002</td>\n",
       "      <td>108.500000</td>\n",
       "      <td>No playoffs</td>\n",
       "    </tr>\n",
       "  </tbody>\n",
       "</table>\n",
       "</div>"
      ],
      "text/plain": [
       "                     team     year  wins  losses  win_loss_pct   srs  \\\n",
       "67  Philadelphia Warriors  1953-54    29      43         0.403 -1.89   \n",
       "21    Seattle SuperSonics  1999-00    45      37         0.549  1.17   \n",
       "43        Detroit Pistons  1977-78    38      44         0.463 -1.22   \n",
       "25      San Antonio Spurs  1995-96    59      23         0.720  5.98   \n",
       "32     Washington Bullets  1988-89    40      42         0.488 -1.77   \n",
       "\n",
       "          pace     off_rtg     def_rtg     rank_team_playoffs  \n",
       "67   89.400002   86.699997   89.000000            No playoffs  \n",
       "21   93.400002  105.599998  104.599998    Lost Conf. 1st Rnd.  \n",
       "43  107.699997  100.300003  101.500000            No playoffs  \n",
       "25   93.300003  110.199997  103.500000  Lost Conf. Semis Rnd.  \n",
       "32  100.800003  106.400002  108.500000            No playoffs  "
      ]
     },
     "execution_count": 43,
     "metadata": {},
     "output_type": "execute_result"
    }
   ],
   "source": [
    "df_teams.sample(5)"
   ]
  },
  {
   "cell_type": "code",
   "execution_count": 44,
   "metadata": {},
   "outputs": [],
   "source": [
    "# How many rows will we need\n",
    "nrows=df_teams.shape[0]\n",
    "# now let's create an index with these rows\n",
    "index=pd.Index(range(nrows), name='Rows')\n",
    "# replace the index\n",
    "df_teams.set_index(index, inplace = True)"
   ]
  },
  {
   "cell_type": "code",
   "execution_count": 45,
   "metadata": {
    "scrolled": true
   },
   "outputs": [
    {
     "data": {
      "text/html": [
       "<div>\n",
       "<style scoped>\n",
       "    .dataframe tbody tr th:only-of-type {\n",
       "        vertical-align: middle;\n",
       "    }\n",
       "\n",
       "    .dataframe tbody tr th {\n",
       "        vertical-align: top;\n",
       "    }\n",
       "\n",
       "    .dataframe thead th {\n",
       "        text-align: right;\n",
       "    }\n",
       "</style>\n",
       "<table border=\"1\" class=\"dataframe\">\n",
       "  <thead>\n",
       "    <tr style=\"text-align: right;\">\n",
       "      <th></th>\n",
       "      <th>team</th>\n",
       "      <th>year</th>\n",
       "      <th>wins</th>\n",
       "      <th>losses</th>\n",
       "      <th>win_loss_pct</th>\n",
       "      <th>srs</th>\n",
       "      <th>pace</th>\n",
       "      <th>off_rtg</th>\n",
       "      <th>def_rtg</th>\n",
       "      <th>rank_team_playoffs</th>\n",
       "    </tr>\n",
       "    <tr>\n",
       "      <th>Rows</th>\n",
       "      <th></th>\n",
       "      <th></th>\n",
       "      <th></th>\n",
       "      <th></th>\n",
       "      <th></th>\n",
       "      <th></th>\n",
       "      <th></th>\n",
       "      <th></th>\n",
       "      <th></th>\n",
       "      <th></th>\n",
       "    </tr>\n",
       "  </thead>\n",
       "  <tbody>\n",
       "    <tr>\n",
       "      <th>291</th>\n",
       "      <td>Cleveland Cavaliers</td>\n",
       "      <td>2010-11</td>\n",
       "      <td>19</td>\n",
       "      <td>63</td>\n",
       "      <td>0.232</td>\n",
       "      <td>-8.88</td>\n",
       "      <td>93.000000</td>\n",
       "      <td>102.199997</td>\n",
       "      <td>111.800003</td>\n",
       "      <td>No playoffs</td>\n",
       "    </tr>\n",
       "    <tr>\n",
       "      <th>1452</th>\n",
       "      <td>Utah Jazz</td>\n",
       "      <td>2005-06</td>\n",
       "      <td>41</td>\n",
       "      <td>41</td>\n",
       "      <td>0.500</td>\n",
       "      <td>-2.49</td>\n",
       "      <td>87.800003</td>\n",
       "      <td>104.099998</td>\n",
       "      <td>107.000000</td>\n",
       "      <td>No playoffs</td>\n",
       "    </tr>\n",
       "    <tr>\n",
       "      <th>980</th>\n",
       "      <td>New York Knicks</td>\n",
       "      <td>1996-97</td>\n",
       "      <td>57</td>\n",
       "      <td>25</td>\n",
       "      <td>0.695</td>\n",
       "      <td>3.31</td>\n",
       "      <td>90.500000</td>\n",
       "      <td>104.400002</td>\n",
       "      <td>101.000000</td>\n",
       "      <td>Lost Conf. Semis Rnd.</td>\n",
       "    </tr>\n",
       "    <tr>\n",
       "      <th>320</th>\n",
       "      <td>Cleveland Cavaliers</td>\n",
       "      <td>1981-82</td>\n",
       "      <td>15</td>\n",
       "      <td>67</td>\n",
       "      <td>0.183</td>\n",
       "      <td>-7.77</td>\n",
       "      <td>99.300003</td>\n",
       "      <td>103.300003</td>\n",
       "      <td>111.800003</td>\n",
       "      <td>No playoffs</td>\n",
       "    </tr>\n",
       "    <tr>\n",
       "      <th>53</th>\n",
       "      <td>St. Louis Hawks</td>\n",
       "      <td>1966-67</td>\n",
       "      <td>39</td>\n",
       "      <td>42</td>\n",
       "      <td>0.481</td>\n",
       "      <td>-1.44</td>\n",
       "      <td>117.699997</td>\n",
       "      <td>96.099998</td>\n",
       "      <td>97.400002</td>\n",
       "      <td>Lost Conf. Finals</td>\n",
       "    </tr>\n",
       "  </tbody>\n",
       "</table>\n",
       "</div>"
      ],
      "text/plain": [
       "                     team     year  wins  losses  win_loss_pct   srs  \\\n",
       "Rows                                                                   \n",
       "291   Cleveland Cavaliers  2010-11    19      63         0.232 -8.88   \n",
       "1452            Utah Jazz  2005-06    41      41         0.500 -2.49   \n",
       "980       New York Knicks  1996-97    57      25         0.695  3.31   \n",
       "320   Cleveland Cavaliers  1981-82    15      67         0.183 -7.77   \n",
       "53        St. Louis Hawks  1966-67    39      42         0.481 -1.44   \n",
       "\n",
       "            pace     off_rtg     def_rtg     rank_team_playoffs  \n",
       "Rows                                                             \n",
       "291    93.000000  102.199997  111.800003            No playoffs  \n",
       "1452   87.800003  104.099998  107.000000            No playoffs  \n",
       "980    90.500000  104.400002  101.000000  Lost Conf. Semis Rnd.  \n",
       "320    99.300003  103.300003  111.800003            No playoffs  \n",
       "53    117.699997   96.099998   97.400002      Lost Conf. Finals  "
      ]
     },
     "execution_count": 45,
     "metadata": {},
     "output_type": "execute_result"
    }
   ],
   "source": [
    "df_teams.sample(5)"
   ]
  },
  {
   "cell_type": "markdown",
   "metadata": {},
   "source": [
    "### matpolib plot"
   ]
  },
  {
   "cell_type": "code",
   "execution_count": 46,
   "metadata": {},
   "outputs": [
    {
     "data": {
      "text/plain": [
       "<matplotlib.axes._subplots.AxesSubplot at 0x1abffbb3c10>"
      ]
     },
     "execution_count": 46,
     "metadata": {},
     "output_type": "execute_result"
    },
    {
     "data": {
      "image/png": "[encoded data removed]",
      "text/plain": [
       "<Figure size 432x288 with 1 Axes>"
      ]
     },
     "metadata": {
      "needs_background": "light"
     },
     "output_type": "display_data"
    }
   ],
   "source": [
    "df_teams.win_loss_pct.plot()"
   ]
  },
  {
   "cell_type": "markdown",
   "metadata": {},
   "source": [
    "### Change columns names"
   ]
  },
  {
   "cell_type": "code",
   "execution_count": 47,
   "metadata": {},
   "outputs": [
    {
     "data": {
      "text/plain": [
       "Index(['team', 'year', 'wins', 'losses', 'win_loss_pct', 'srs', 'pace',\n",
       "       'off_rtg', 'def_rtg', 'rank_team_playoffs'],\n",
       "      dtype='object')"
      ]
     },
     "execution_count": 47,
     "metadata": {},
     "output_type": "execute_result"
    }
   ],
   "source": [
    "df_teams.columns"
   ]
  },
  {
   "cell_type": "code",
   "execution_count": 48,
   "metadata": {},
   "outputs": [
    {
     "data": {
      "text/html": [
       "<div>\n",
       "<style scoped>\n",
       "    .dataframe tbody tr th:only-of-type {\n",
       "        vertical-align: middle;\n",
       "    }\n",
       "\n",
       "    .dataframe tbody tr th {\n",
       "        vertical-align: top;\n",
       "    }\n",
       "\n",
       "    .dataframe thead th {\n",
       "        text-align: right;\n",
       "    }\n",
       "</style>\n",
       "<table border=\"1\" class=\"dataframe\">\n",
       "  <thead>\n",
       "    <tr style=\"text-align: right;\">\n",
       "      <th></th>\n",
       "      <th>Team</th>\n",
       "      <th>Year</th>\n",
       "      <th>Wins</th>\n",
       "      <th>Losses</th>\n",
       "      <th>Wins percentage</th>\n",
       "      <th>SRS</th>\n",
       "      <th>Pace</th>\n",
       "      <th>Offensive Rating</th>\n",
       "      <th>Defensive Rating</th>\n",
       "      <th>Playoffs</th>\n",
       "    </tr>\n",
       "    <tr>\n",
       "      <th>Rows</th>\n",
       "      <th></th>\n",
       "      <th></th>\n",
       "      <th></th>\n",
       "      <th></th>\n",
       "      <th></th>\n",
       "      <th></th>\n",
       "      <th></th>\n",
       "      <th></th>\n",
       "      <th></th>\n",
       "      <th></th>\n",
       "    </tr>\n",
       "  </thead>\n",
       "  <tbody>\n",
       "    <tr>\n",
       "      <th>0</th>\n",
       "      <td>Atlanta Hawks</td>\n",
       "      <td>2019-20</td>\n",
       "      <td>20</td>\n",
       "      <td>47</td>\n",
       "      <td>0.299</td>\n",
       "      <td>-7.71</td>\n",
       "      <td>103.000000</td>\n",
       "      <td>107.199997</td>\n",
       "      <td>114.800003</td>\n",
       "      <td>No playoffs</td>\n",
       "    </tr>\n",
       "    <tr>\n",
       "      <th>1</th>\n",
       "      <td>Atlanta Hawks</td>\n",
       "      <td>2018-19</td>\n",
       "      <td>29</td>\n",
       "      <td>53</td>\n",
       "      <td>0.354</td>\n",
       "      <td>-6.06</td>\n",
       "      <td>103.900002</td>\n",
       "      <td>108.099998</td>\n",
       "      <td>113.900002</td>\n",
       "      <td>No playoffs</td>\n",
       "    </tr>\n",
       "    <tr>\n",
       "      <th>2</th>\n",
       "      <td>Atlanta Hawks</td>\n",
       "      <td>2017-18</td>\n",
       "      <td>24</td>\n",
       "      <td>58</td>\n",
       "      <td>0.293</td>\n",
       "      <td>-5.30</td>\n",
       "      <td>98.300003</td>\n",
       "      <td>105.000000</td>\n",
       "      <td>110.599998</td>\n",
       "      <td>No playoffs</td>\n",
       "    </tr>\n",
       "    <tr>\n",
       "      <th>3</th>\n",
       "      <td>Atlanta Hawks</td>\n",
       "      <td>2016-17</td>\n",
       "      <td>43</td>\n",
       "      <td>39</td>\n",
       "      <td>0.524</td>\n",
       "      <td>-1.23</td>\n",
       "      <td>97.400002</td>\n",
       "      <td>104.900002</td>\n",
       "      <td>105.699997</td>\n",
       "      <td>Lost Conf. 1st Rnd.</td>\n",
       "    </tr>\n",
       "    <tr>\n",
       "      <th>4</th>\n",
       "      <td>Atlanta Hawks</td>\n",
       "      <td>2015-16</td>\n",
       "      <td>48</td>\n",
       "      <td>34</td>\n",
       "      <td>0.585</td>\n",
       "      <td>3.49</td>\n",
       "      <td>97.099998</td>\n",
       "      <td>105.099998</td>\n",
       "      <td>101.400002</td>\n",
       "      <td>Lost Conf. Semis Rnd.</td>\n",
       "    </tr>\n",
       "    <tr>\n",
       "      <th>...</th>\n",
       "      <td>...</td>\n",
       "      <td>...</td>\n",
       "      <td>...</td>\n",
       "      <td>...</td>\n",
       "      <td>...</td>\n",
       "      <td>...</td>\n",
       "      <td>...</td>\n",
       "      <td>...</td>\n",
       "      <td>...</td>\n",
       "      <td>...</td>\n",
       "    </tr>\n",
       "    <tr>\n",
       "      <th>1538</th>\n",
       "      <td>Baltimore Bullets</td>\n",
       "      <td>1965-66</td>\n",
       "      <td>38</td>\n",
       "      <td>42</td>\n",
       "      <td>0.475</td>\n",
       "      <td>-1.06</td>\n",
       "      <td>123.099998</td>\n",
       "      <td>95.800003</td>\n",
       "      <td>96.800003</td>\n",
       "      <td>Lost Conf. Semis Rnd.</td>\n",
       "    </tr>\n",
       "    <tr>\n",
       "      <th>1539</th>\n",
       "      <td>Baltimore Bullets</td>\n",
       "      <td>1964-65</td>\n",
       "      <td>37</td>\n",
       "      <td>43</td>\n",
       "      <td>0.463</td>\n",
       "      <td>-1.97</td>\n",
       "      <td>116.199997</td>\n",
       "      <td>96.800003</td>\n",
       "      <td>98.699997</td>\n",
       "      <td>Lost Conf. Finals</td>\n",
       "    </tr>\n",
       "    <tr>\n",
       "      <th>1540</th>\n",
       "      <td>Baltimore Bullets</td>\n",
       "      <td>1963-64</td>\n",
       "      <td>31</td>\n",
       "      <td>49</td>\n",
       "      <td>0.388</td>\n",
       "      <td>-1.59</td>\n",
       "      <td>117.000000</td>\n",
       "      <td>95.000000</td>\n",
       "      <td>96.599998</td>\n",
       "      <td>No playoffs</td>\n",
       "    </tr>\n",
       "    <tr>\n",
       "      <th>1541</th>\n",
       "      <td>Chicago Zephyrs</td>\n",
       "      <td>1962-63</td>\n",
       "      <td>25</td>\n",
       "      <td>55</td>\n",
       "      <td>0.313</td>\n",
       "      <td>-3.63</td>\n",
       "      <td>112.199997</td>\n",
       "      <td>97.500000</td>\n",
       "      <td>101.099998</td>\n",
       "      <td>No playoffs</td>\n",
       "    </tr>\n",
       "    <tr>\n",
       "      <th>1542</th>\n",
       "      <td>Chicago Packers</td>\n",
       "      <td>1961-62</td>\n",
       "      <td>18</td>\n",
       "      <td>62</td>\n",
       "      <td>0.225</td>\n",
       "      <td>-7.54</td>\n",
       "      <td>122.900002</td>\n",
       "      <td>90.000000</td>\n",
       "      <td>96.900002</td>\n",
       "      <td>No playoffs</td>\n",
       "    </tr>\n",
       "  </tbody>\n",
       "</table>\n",
       "<p>1543 rows × 10 columns</p>\n",
       "</div>"
      ],
      "text/plain": [
       "                   Team     Year  Wins  Losses  Wins percentage   SRS  \\\n",
       "Rows                                                                    \n",
       "0         Atlanta Hawks  2019-20    20      47            0.299 -7.71   \n",
       "1         Atlanta Hawks  2018-19    29      53            0.354 -6.06   \n",
       "2         Atlanta Hawks  2017-18    24      58            0.293 -5.30   \n",
       "3         Atlanta Hawks  2016-17    43      39            0.524 -1.23   \n",
       "4         Atlanta Hawks  2015-16    48      34            0.585  3.49   \n",
       "...                 ...      ...   ...     ...              ...   ...   \n",
       "1538  Baltimore Bullets  1965-66    38      42            0.475 -1.06   \n",
       "1539  Baltimore Bullets  1964-65    37      43            0.463 -1.97   \n",
       "1540  Baltimore Bullets  1963-64    31      49            0.388 -1.59   \n",
       "1541    Chicago Zephyrs  1962-63    25      55            0.313 -3.63   \n",
       "1542    Chicago Packers  1961-62    18      62            0.225 -7.54   \n",
       "\n",
       "            Pace  Offensive Rating  Defensive Rating               Playoffs  \n",
       "Rows                                                                         \n",
       "0     103.000000        107.199997        114.800003            No playoffs  \n",
       "1     103.900002        108.099998        113.900002            No playoffs  \n",
       "2      98.300003        105.000000        110.599998            No playoffs  \n",
       "3      97.400002        104.900002        105.699997    Lost Conf. 1st Rnd.  \n",
       "4      97.099998        105.099998        101.400002  Lost Conf. Semis Rnd.  \n",
       "...          ...               ...               ...                    ...  \n",
       "1538  123.099998         95.800003         96.800003  Lost Conf. Semis Rnd.  \n",
       "1539  116.199997         96.800003         98.699997      Lost Conf. Finals  \n",
       "1540  117.000000         95.000000         96.599998            No playoffs  \n",
       "1541  112.199997         97.500000        101.099998            No playoffs  \n",
       "1542  122.900002         90.000000         96.900002            No playoffs  \n",
       "\n",
       "[1543 rows x 10 columns]"
      ]
     },
     "execution_count": 48,
     "metadata": {},
     "output_type": "execute_result"
    }
   ],
   "source": [
    "df_teams.rename(columns={'team':'Team', 'year':'Year', 'wins':'Wins', 'losses':'Losses', \n",
    "                         'win_loss_pct':'Wins percentage', 'srs':'SRS', 'pace':'Pace', \n",
    "                         'off_rtg':'Offensive Rating', 'def_rtg':'Defensive Rating',\n",
    "                         'rank_team_playoffs':'Playoffs'}, inplace=True)\n",
    "\n",
    "df_teams"
   ]
  },
  {
   "cell_type": "markdown",
   "metadata": {},
   "source": [
    "##  Basic stats per season DataFrame"
   ]
  },
  {
   "cell_type": "markdown",
   "metadata": {},
   "source": [
    "### Informations about the DataFrame"
   ]
  },
  {
   "cell_type": "code",
   "execution_count": 49,
   "metadata": {},
   "outputs": [
    {
     "name": "stdout",
     "output_type": "stream",
     "text": [
      "<class 'pandas.core.frame.DataFrame'>\n",
      "Int64Index: 1543 entries, 0 to 58\n",
      "Data columns (total 10 columns):\n",
      " #   Column          Non-Null Count  Dtype \n",
      "---  ------          --------------  ----- \n",
      " 0   team            1543 non-null   object\n",
      " 1   year            1543 non-null   object\n",
      " 2   points          1543 non-null   object\n",
      " 3   field_goal      1543 non-null   object\n",
      " 4   field_goal_pct  1543 non-null   object\n",
      " 5   rebounds        1543 non-null   object\n",
      " 6   assists         1543 non-null   object\n",
      " 7   steals          1543 non-null   object\n",
      " 8   blocks          1543 non-null   object\n",
      " 9   turnovers       1543 non-null   object\n",
      "dtypes: object(10)\n",
      "memory usage: 132.6+ KB\n"
     ]
    }
   ],
   "source": [
    "df_basic_stats.info()"
   ]
  },
  {
   "cell_type": "code",
   "execution_count": 50,
   "metadata": {},
   "outputs": [
    {
     "data": {
      "text/plain": [
       "(1543, 10)"
      ]
     },
     "execution_count": 50,
     "metadata": {},
     "output_type": "execute_result"
    }
   ],
   "source": [
    "df_basic_stats.shape"
   ]
  },
  {
   "cell_type": "code",
   "execution_count": 51,
   "metadata": {},
   "outputs": [
    {
     "data": {
      "text/html": [
       "<div>\n",
       "<style scoped>\n",
       "    .dataframe tbody tr th:only-of-type {\n",
       "        vertical-align: middle;\n",
       "    }\n",
       "\n",
       "    .dataframe tbody tr th {\n",
       "        vertical-align: top;\n",
       "    }\n",
       "\n",
       "    .dataframe thead th {\n",
       "        text-align: right;\n",
       "    }\n",
       "</style>\n",
       "<table border=\"1\" class=\"dataframe\">\n",
       "  <thead>\n",
       "    <tr style=\"text-align: right;\">\n",
       "      <th></th>\n",
       "      <th>team</th>\n",
       "      <th>year</th>\n",
       "      <th>points</th>\n",
       "      <th>field_goal</th>\n",
       "      <th>field_goal_pct</th>\n",
       "      <th>rebounds</th>\n",
       "      <th>assists</th>\n",
       "      <th>steals</th>\n",
       "      <th>blocks</th>\n",
       "      <th>turnovers</th>\n",
       "    </tr>\n",
       "  </thead>\n",
       "  <tbody>\n",
       "    <tr>\n",
       "      <th>0</th>\n",
       "      <td>ATL</td>\n",
       "      <td>2019-20</td>\n",
       "      <td>7488</td>\n",
       "      <td>2723</td>\n",
       "      <td>.449</td>\n",
       "      <td>2898</td>\n",
       "      <td>1605</td>\n",
       "      <td>523</td>\n",
       "      <td>341</td>\n",
       "      <td>1086</td>\n",
       "    </tr>\n",
       "    <tr>\n",
       "      <th>1</th>\n",
       "      <td>ATL</td>\n",
       "      <td>2018-19</td>\n",
       "      <td>9294</td>\n",
       "      <td>3392</td>\n",
       "      <td>.451</td>\n",
       "      <td>3780</td>\n",
       "      <td>2118</td>\n",
       "      <td>675</td>\n",
       "      <td>419</td>\n",
       "      <td>1397</td>\n",
       "    </tr>\n",
       "    <tr>\n",
       "      <th>2</th>\n",
       "      <td>ATL</td>\n",
       "      <td>2017-18</td>\n",
       "      <td>8475</td>\n",
       "      <td>3130</td>\n",
       "      <td>.446</td>\n",
       "      <td>3436</td>\n",
       "      <td>1946</td>\n",
       "      <td>638</td>\n",
       "      <td>348</td>\n",
       "      <td>1276</td>\n",
       "    </tr>\n",
       "    <tr>\n",
       "      <th>3</th>\n",
       "      <td>ATL</td>\n",
       "      <td>2016-17</td>\n",
       "      <td>8459</td>\n",
       "      <td>3123</td>\n",
       "      <td>.451</td>\n",
       "      <td>3635</td>\n",
       "      <td>1938</td>\n",
       "      <td>672</td>\n",
       "      <td>397</td>\n",
       "      <td>1294</td>\n",
       "    </tr>\n",
       "    <tr>\n",
       "      <th>4</th>\n",
       "      <td>ATL</td>\n",
       "      <td>2015-16</td>\n",
       "      <td>8433</td>\n",
       "      <td>3168</td>\n",
       "      <td>.458</td>\n",
       "      <td>3451</td>\n",
       "      <td>2100</td>\n",
       "      <td>747</td>\n",
       "      <td>486</td>\n",
       "      <td>1226</td>\n",
       "    </tr>\n",
       "  </tbody>\n",
       "</table>\n",
       "</div>"
      ],
      "text/plain": [
       "  team     year points field_goal field_goal_pct rebounds assists steals  \\\n",
       "0  ATL  2019-20   7488       2723           .449     2898    1605    523   \n",
       "1  ATL  2018-19   9294       3392           .451     3780    2118    675   \n",
       "2  ATL  2017-18   8475       3130           .446     3436    1946    638   \n",
       "3  ATL  2016-17   8459       3123           .451     3635    1938    672   \n",
       "4  ATL  2015-16   8433       3168           .458     3451    2100    747   \n",
       "\n",
       "  blocks turnovers  \n",
       "0    341      1086  \n",
       "1    419      1397  \n",
       "2    348      1276  \n",
       "3    397      1294  \n",
       "4    486      1226  "
      ]
     },
     "execution_count": 51,
     "metadata": {},
     "output_type": "execute_result"
    }
   ],
   "source": [
    "df_basic_stats.head()"
   ]
  },
  {
   "cell_type": "code",
   "execution_count": 52,
   "metadata": {},
   "outputs": [
    {
     "data": {
      "text/plain": [
       "Index(['team', 'year', 'points', 'field_goal', 'field_goal_pct', 'rebounds',\n",
       "       'assists', 'steals', 'blocks', 'turnovers'],\n",
       "      dtype='object')"
      ]
     },
     "execution_count": 52,
     "metadata": {},
     "output_type": "execute_result"
    }
   ],
   "source": [
    "df_basic_stats.columns"
   ]
  },
  {
   "cell_type": "markdown",
   "metadata": {},
   "source": [
    "**What must be changed**\n",
    "\n",
    "1. Problem with the values, because it's object and not int or float. \n",
    "    - Need to change columns points, field_goal, rebounds, assists, steals, blocks, turnovers to integer\n",
    "    - Need to change field_goal_pct to float.\n",
    "2. The teams' names must be changed too : it's necessary that the columns correspond to the column team of the other DataFrame.\n",
    "\n",
    "\n",
    "To avoid problems with the DataFrame if there is a problem, a backup copy has to be done."
   ]
  },
  {
   "cell_type": "code",
   "execution_count": 65,
   "metadata": {},
   "outputs": [],
   "source": [
    "backup_stats=df_basic_stats.copy()"
   ]
  },
  {
   "cell_type": "code",
   "execution_count": 53,
   "metadata": {},
   "outputs": [
    {
     "data": {
      "text/plain": [
       "team              object\n",
       "year              object\n",
       "points            object\n",
       "field_goal        object\n",
       "field_goal_pct    object\n",
       "rebounds          object\n",
       "assists           object\n",
       "steals            object\n",
       "blocks            object\n",
       "turnovers         object\n",
       "dtype: object"
      ]
     },
     "execution_count": 53,
     "metadata": {},
     "output_type": "execute_result"
    }
   ],
   "source": [
    "df_basic_stats.dtypes"
   ]
  },
  {
   "cell_type": "code",
   "execution_count": 54,
   "metadata": {},
   "outputs": [
    {
     "name": "stdout",
     "output_type": "stream",
     "text": [
      "<class 'pandas.core.frame.DataFrame'>\n",
      "Int64Index: 1543 entries, 0 to 58\n",
      "Data columns (total 10 columns):\n",
      " #   Column          Non-Null Count  Dtype  \n",
      "---  ------          --------------  -----  \n",
      " 0   team            1543 non-null   object \n",
      " 1   year            1543 non-null   object \n",
      " 2   points          1543 non-null   int32  \n",
      " 3   field_goal      1543 non-null   int32  \n",
      " 4   field_goal_pct  1543 non-null   float32\n",
      " 5   rebounds        1543 non-null   object \n",
      " 6   assists         1543 non-null   int32  \n",
      " 7   steals          1543 non-null   object \n",
      " 8   blocks          1543 non-null   object \n",
      " 9   turnovers       1543 non-null   object \n",
      "dtypes: float32(1), int32(3), object(6)\n",
      "memory usage: 108.5+ KB\n"
     ]
    }
   ],
   "source": [
    "df_basic_stats=df_basic_stats.astype({'points': int, 'field_goal': int, 'assists': int})\n",
    "df_basic_stats['field_goal_pct']=pd.to_numeric(df_basic_stats['field_goal_pct'], downcast='float')\n",
    "\n",
    "df_basic_stats.info()"
   ]
  },
  {
   "cell_type": "markdown",
   "metadata": {},
   "source": [
    "As rebounds, steals, blocks and turnovers are not complete columns (those statistics weren't counted before the 70's), the change must be done with `pd.to_numeric` function."
   ]
  },
  {
   "cell_type": "code",
   "execution_count": 55,
   "metadata": {},
   "outputs": [
    {
     "name": "stdout",
     "output_type": "stream",
     "text": [
      "<class 'pandas.core.frame.DataFrame'>\n",
      "Int64Index: 1543 entries, 0 to 58\n",
      "Data columns (total 10 columns):\n",
      " #   Column          Non-Null Count  Dtype  \n",
      "---  ------          --------------  -----  \n",
      " 0   team            1543 non-null   object \n",
      " 1   year            1543 non-null   object \n",
      " 2   points          1543 non-null   int32  \n",
      " 3   field_goal      1543 non-null   int32  \n",
      " 4   field_goal_pct  1543 non-null   float32\n",
      " 5   rebounds        1523 non-null   float64\n",
      " 6   assists         1543 non-null   int32  \n",
      " 7   steals          1265 non-null   float64\n",
      " 8   blocks          1523 non-null   float64\n",
      " 9   turnovers       1289 non-null   float64\n",
      "dtypes: float32(1), float64(4), int32(3), object(2)\n",
      "memory usage: 108.5+ KB\n"
     ]
    }
   ],
   "source": [
    "df_basic_stats['rebounds']=pd.to_numeric(df_basic_stats['rebounds'], downcast='integer')\n",
    "df_basic_stats['steals']=pd.to_numeric(df_basic_stats['steals'], downcast='integer')\n",
    "df_basic_stats['blocks']=pd.to_numeric(df_basic_stats['rebounds'], downcast='integer')\n",
    "df_basic_stats['turnovers']=pd.to_numeric(df_basic_stats['turnovers'], downcast='integer')\n",
    "\n",
    "df_basic_stats.info()"
   ]
  },
  {
   "cell_type": "code",
   "execution_count": 56,
   "metadata": {},
   "outputs": [
    {
     "data": {
      "text/plain": [
       "team                0\n",
       "year                0\n",
       "points              0\n",
       "field_goal          0\n",
       "field_goal_pct      0\n",
       "rebounds           20\n",
       "assists             0\n",
       "steals            278\n",
       "blocks             20\n",
       "turnovers         254\n",
       "dtype: int64"
      ]
     },
     "execution_count": 56,
     "metadata": {},
     "output_type": "execute_result"
    }
   ],
   "source": [
    "df_basic_stats.isna().sum()"
   ]
  },
  {
   "cell_type": "markdown",
   "metadata": {},
   "source": [
    "The rows with no data won't be dropped : it's just informations that have not be counted at that time."
   ]
  },
  {
   "cell_type": "markdown",
   "metadata": {},
   "source": [
    "### Uniformization of the teams names \n",
    "Preparation for next step to have the same number of unique teams names': some teams have different aliases but the same name. For example, the Charlotte Hornets changed their name for the Charlotte Bobcats and came back to their original name. The alias was CHO at first, then CHA and CHH. To make is more regular, CHH will be replace for CHO.\n",
    "If not, the 2 arrays will have different lengths and it will be impossible to create a dictionnary with these arrays."
   ]
  },
  {
   "cell_type": "code",
   "execution_count": 57,
   "metadata": {},
   "outputs": [
    {
     "data": {
      "text/plain": [
       "array(['ATL', 'STL', 'MLH', 'TRI', 'BOS', 'BRK', 'NJN', 'NYN', 'NYA',\n",
       "       'NJA', 'CHO', 'CHA', 'CHH', 'CHI', 'CLE', 'DAL', 'DEN', 'DNA',\n",
       "       'DNR', 'DET', 'FTW', 'GSW', 'SFW', 'PHW', 'HOU', 'SDR', 'IND',\n",
       "       'INA', 'LAC', 'SDC', 'BUF', 'LAL', 'MNL', 'MEM', 'VAN', 'MIA',\n",
       "       'MIL', 'MIN', 'NOP', 'NOH', 'NOK', 'NYK', 'OKC', 'SEA', 'ORL',\n",
       "       'PHI', 'SYR', 'PHO', 'POR', 'SAC', 'KCK', 'KCO', 'CIN', 'ROC',\n",
       "       'SAS', 'SAA', 'DLC', 'TEX', 'TOR', 'UTA', 'NOJ', 'WAS', 'WSB',\n",
       "       'CAP', 'BAL', 'CHZ', 'CHP'], dtype=object)"
      ]
     },
     "execution_count": 57,
     "metadata": {},
     "output_type": "execute_result"
    }
   ],
   "source": [
    "df_basic_stats.team.unique()"
   ]
  },
  {
   "cell_type": "code",
   "execution_count": 58,
   "metadata": {},
   "outputs": [
    {
     "data": {
      "text/plain": [
       "array(['Atlanta Hawks', 'St. Louis Hawks', 'Milwaukee Hawks',\n",
       "       'Tri-Cities Blackhawks', 'Boston Celtics', 'Brooklyn Nets',\n",
       "       'New Jersey Nets', 'New York Nets', 'New Jersey Americans',\n",
       "       'Charlotte Hornets', 'Charlotte Bobcats', 'Chicago Bulls',\n",
       "       'Cleveland Cavaliers', 'Dallas Mavericks', 'Denver Nuggets',\n",
       "       'Denver Rockets', 'Detroit Pistons', 'Fort Wayne Pistons',\n",
       "       'Golden State Warriors', 'San Francisco Warriors',\n",
       "       'Philadelphia Warriors', 'Houston Rockets', 'San Diego Rockets',\n",
       "       'Indiana Pacers', 'Los Angeles Clippers', 'San Diego Clippers',\n",
       "       'Buffalo Braves', 'Los Angeles Lakers', 'Minneapolis Lakers',\n",
       "       'Memphis Grizzlies', 'Vancouver Grizzlies', 'Miami Heat',\n",
       "       'Milwaukee Bucks', 'Minnesota Timberwolves',\n",
       "       'New Orleans Pelicans', 'New Orleans Hornets',\n",
       "       'New Orleans/Oklahoma City Hornets', 'New York Knicks',\n",
       "       'Oklahoma City Thunder', 'Seattle SuperSonics', 'Orlando Magic',\n",
       "       'Philadelphia 76ers', 'Syracuse Nationals', 'Phoenix Suns',\n",
       "       'Portland Trail Blazers', 'Sacramento Kings', 'Kansas City Kings',\n",
       "       'Kansas City-Omaha Kings', 'Cincinnati Royals', 'Rochester Royals',\n",
       "       'San Antonio Spurs', 'Dallas Chaparrals', 'Texas Chaparrals',\n",
       "       'Toronto Raptors', 'Utah Jazz', 'New Orleans Jazz',\n",
       "       'Washington Wizards', 'Washington Bullets', 'Capital Bullets',\n",
       "       'Baltimore Bullets', 'Chicago Zephyrs', 'Chicago Packers'],\n",
       "      dtype=object)"
      ]
     },
     "execution_count": 58,
     "metadata": {},
     "output_type": "execute_result"
    }
   ],
   "source": [
    "df_teams.Team.unique()"
   ]
  },
  {
   "cell_type": "code",
   "execution_count": 59,
   "metadata": {},
   "outputs": [],
   "source": [
    "df_basic_stats=df_basic_stats.replace('NJA', 'NYA')\n",
    "df_basic_stats=df_basic_stats.replace('CHH', 'CHO')\n",
    "df_basic_stats=df_basic_stats.replace('DNA', 'DEN')\n",
    "df_basic_stats=df_basic_stats.replace('INA', 'IND')\n",
    "df_basic_stats=df_basic_stats.replace('SAA', 'SAS')"
   ]
  },
  {
   "cell_type": "code",
   "execution_count": 60,
   "metadata": {},
   "outputs": [
    {
     "name": "stdout",
     "output_type": "stream",
     "text": [
      "Have the two arrays the same length? True\n"
     ]
    }
   ],
   "source": [
    "print(\"Have the two arrays the same length?\",\n",
    "      df_basic_stats.team.nunique() == df_teams.Team.nunique())"
   ]
  },
  {
   "cell_type": "markdown",
   "metadata": {},
   "source": [
    "### Change the name of the teams to correspond to the other DataFrame\n",
    "\n"
   ]
  },
  {
   "cell_type": "code",
   "execution_count": 61,
   "metadata": {},
   "outputs": [],
   "source": [
    "dict={df_basic_stats.team.unique()[i]: df_teams.Team.unique()[i] for i in range(len(df_basic_stats.team.unique()))} "
   ]
  },
  {
   "cell_type": "code",
   "execution_count": 62,
   "metadata": {},
   "outputs": [
    {
     "name": "stdout",
     "output_type": "stream",
     "text": [
      "{'ATL': 'Atlanta Hawks', 'STL': 'St. Louis Hawks', 'MLH': 'Milwaukee Hawks', 'TRI': 'Tri-Cities Blackhawks', 'BOS': 'Boston Celtics', 'BRK': 'Brooklyn Nets', 'NJN': 'New Jersey Nets', 'NYN': 'New York Nets', 'NYA': 'New Jersey Americans', 'CHO': 'Charlotte Hornets', 'CHA': 'Charlotte Bobcats', 'CHI': 'Chicago Bulls', 'CLE': 'Cleveland Cavaliers', 'DAL': 'Dallas Mavericks', 'DEN': 'Denver Nuggets', 'DNR': 'Denver Rockets', 'DET': 'Detroit Pistons', 'FTW': 'Fort Wayne Pistons', 'GSW': 'Golden State Warriors', 'SFW': 'San Francisco Warriors', 'PHW': 'Philadelphia Warriors', 'HOU': 'Houston Rockets', 'SDR': 'San Diego Rockets', 'IND': 'Indiana Pacers', 'LAC': 'Los Angeles Clippers', 'SDC': 'San Diego Clippers', 'BUF': 'Buffalo Braves', 'LAL': 'Los Angeles Lakers', 'MNL': 'Minneapolis Lakers', 'MEM': 'Memphis Grizzlies', 'VAN': 'Vancouver Grizzlies', 'MIA': 'Miami Heat', 'MIL': 'Milwaukee Bucks', 'MIN': 'Minnesota Timberwolves', 'NOP': 'New Orleans Pelicans', 'NOH': 'New Orleans Hornets', 'NOK': 'New Orleans/Oklahoma City Hornets', 'NYK': 'New York Knicks', 'OKC': 'Oklahoma City Thunder', 'SEA': 'Seattle SuperSonics', 'ORL': 'Orlando Magic', 'PHI': 'Philadelphia 76ers', 'SYR': 'Syracuse Nationals', 'PHO': 'Phoenix Suns', 'POR': 'Portland Trail Blazers', 'SAC': 'Sacramento Kings', 'KCK': 'Kansas City Kings', 'KCO': 'Kansas City-Omaha Kings', 'CIN': 'Cincinnati Royals', 'ROC': 'Rochester Royals', 'SAS': 'San Antonio Spurs', 'DLC': 'Dallas Chaparrals', 'TEX': 'Texas Chaparrals', 'TOR': 'Toronto Raptors', 'UTA': 'Utah Jazz', 'NOJ': 'New Orleans Jazz', 'WAS': 'Washington Wizards', 'WSB': 'Washington Bullets', 'CAP': 'Capital Bullets', 'BAL': 'Baltimore Bullets', 'CHZ': 'Chicago Zephyrs', 'CHP': 'Chicago Packers'}\n"
     ]
    }
   ],
   "source": [
    "print(dict)"
   ]
  },
  {
   "cell_type": "code",
   "execution_count": 63,
   "metadata": {},
   "outputs": [],
   "source": [
    "df_basic_stats.team=df_basic_stats.team.map(dict)"
   ]
  },
  {
   "cell_type": "code",
   "execution_count": 64,
   "metadata": {},
   "outputs": [
    {
     "data": {
      "text/html": [
       "<div>\n",
       "<style scoped>\n",
       "    .dataframe tbody tr th:only-of-type {\n",
       "        vertical-align: middle;\n",
       "    }\n",
       "\n",
       "    .dataframe tbody tr th {\n",
       "        vertical-align: top;\n",
       "    }\n",
       "\n",
       "    .dataframe thead th {\n",
       "        text-align: right;\n",
       "    }\n",
       "</style>\n",
       "<table border=\"1\" class=\"dataframe\">\n",
       "  <thead>\n",
       "    <tr style=\"text-align: right;\">\n",
       "      <th></th>\n",
       "      <th>team</th>\n",
       "      <th>year</th>\n",
       "      <th>points</th>\n",
       "      <th>field_goal</th>\n",
       "      <th>field_goal_pct</th>\n",
       "      <th>rebounds</th>\n",
       "      <th>assists</th>\n",
       "      <th>steals</th>\n",
       "      <th>blocks</th>\n",
       "      <th>turnovers</th>\n",
       "    </tr>\n",
       "  </thead>\n",
       "  <tbody>\n",
       "    <tr>\n",
       "      <th>0</th>\n",
       "      <td>Atlanta Hawks</td>\n",
       "      <td>2019-20</td>\n",
       "      <td>7488</td>\n",
       "      <td>2723</td>\n",
       "      <td>0.449</td>\n",
       "      <td>2898.0</td>\n",
       "      <td>1605</td>\n",
       "      <td>523.0</td>\n",
       "      <td>2898.0</td>\n",
       "      <td>1086.0</td>\n",
       "    </tr>\n",
       "    <tr>\n",
       "      <th>1</th>\n",
       "      <td>Atlanta Hawks</td>\n",
       "      <td>2018-19</td>\n",
       "      <td>9294</td>\n",
       "      <td>3392</td>\n",
       "      <td>0.451</td>\n",
       "      <td>3780.0</td>\n",
       "      <td>2118</td>\n",
       "      <td>675.0</td>\n",
       "      <td>3780.0</td>\n",
       "      <td>1397.0</td>\n",
       "    </tr>\n",
       "    <tr>\n",
       "      <th>2</th>\n",
       "      <td>Atlanta Hawks</td>\n",
       "      <td>2017-18</td>\n",
       "      <td>8475</td>\n",
       "      <td>3130</td>\n",
       "      <td>0.446</td>\n",
       "      <td>3436.0</td>\n",
       "      <td>1946</td>\n",
       "      <td>638.0</td>\n",
       "      <td>3436.0</td>\n",
       "      <td>1276.0</td>\n",
       "    </tr>\n",
       "    <tr>\n",
       "      <th>3</th>\n",
       "      <td>Atlanta Hawks</td>\n",
       "      <td>2016-17</td>\n",
       "      <td>8459</td>\n",
       "      <td>3123</td>\n",
       "      <td>0.451</td>\n",
       "      <td>3635.0</td>\n",
       "      <td>1938</td>\n",
       "      <td>672.0</td>\n",
       "      <td>3635.0</td>\n",
       "      <td>1294.0</td>\n",
       "    </tr>\n",
       "    <tr>\n",
       "      <th>4</th>\n",
       "      <td>Atlanta Hawks</td>\n",
       "      <td>2015-16</td>\n",
       "      <td>8433</td>\n",
       "      <td>3168</td>\n",
       "      <td>0.458</td>\n",
       "      <td>3451.0</td>\n",
       "      <td>2100</td>\n",
       "      <td>747.0</td>\n",
       "      <td>3451.0</td>\n",
       "      <td>1226.0</td>\n",
       "    </tr>\n",
       "    <tr>\n",
       "      <th>...</th>\n",
       "      <td>...</td>\n",
       "      <td>...</td>\n",
       "      <td>...</td>\n",
       "      <td>...</td>\n",
       "      <td>...</td>\n",
       "      <td>...</td>\n",
       "      <td>...</td>\n",
       "      <td>...</td>\n",
       "      <td>...</td>\n",
       "      <td>...</td>\n",
       "    </tr>\n",
       "    <tr>\n",
       "      <th>54</th>\n",
       "      <td>Baltimore Bullets</td>\n",
       "      <td>1965-66</td>\n",
       "      <td>9465</td>\n",
       "      <td>3599</td>\n",
       "      <td>0.438</td>\n",
       "      <td>5542.0</td>\n",
       "      <td>1890</td>\n",
       "      <td>NaN</td>\n",
       "      <td>5542.0</td>\n",
       "      <td>NaN</td>\n",
       "    </tr>\n",
       "    <tr>\n",
       "      <th>55</th>\n",
       "      <td>Baltimore Bullets</td>\n",
       "      <td>1964-65</td>\n",
       "      <td>9087</td>\n",
       "      <td>3421</td>\n",
       "      <td>0.442</td>\n",
       "      <td>5298.0</td>\n",
       "      <td>1676</td>\n",
       "      <td>NaN</td>\n",
       "      <td>5298.0</td>\n",
       "      <td>NaN</td>\n",
       "    </tr>\n",
       "    <tr>\n",
       "      <th>56</th>\n",
       "      <td>Baltimore Bullets</td>\n",
       "      <td>1963-64</td>\n",
       "      <td>8948</td>\n",
       "      <td>3456</td>\n",
       "      <td>0.440</td>\n",
       "      <td>5460.0</td>\n",
       "      <td>1423</td>\n",
       "      <td>NaN</td>\n",
       "      <td>5460.0</td>\n",
       "      <td>NaN</td>\n",
       "    </tr>\n",
       "    <tr>\n",
       "      <th>57</th>\n",
       "      <td>Chicago Zephyrs</td>\n",
       "      <td>1962-63</td>\n",
       "      <td>8795</td>\n",
       "      <td>3371</td>\n",
       "      <td>0.453</td>\n",
       "      <td>5145.0</td>\n",
       "      <td>1773</td>\n",
       "      <td>NaN</td>\n",
       "      <td>5145.0</td>\n",
       "      <td>NaN</td>\n",
       "    </tr>\n",
       "    <tr>\n",
       "      <th>58</th>\n",
       "      <td>Chicago Packers</td>\n",
       "      <td>1961-62</td>\n",
       "      <td>8874</td>\n",
       "      <td>3461</td>\n",
       "      <td>0.412</td>\n",
       "      <td>5547.0</td>\n",
       "      <td>1802</td>\n",
       "      <td>NaN</td>\n",
       "      <td>5547.0</td>\n",
       "      <td>NaN</td>\n",
       "    </tr>\n",
       "  </tbody>\n",
       "</table>\n",
       "<p>1543 rows × 10 columns</p>\n",
       "</div>"
      ],
      "text/plain": [
       "                 team     year  points  field_goal  field_goal_pct  rebounds  \\\n",
       "0       Atlanta Hawks  2019-20    7488        2723           0.449    2898.0   \n",
       "1       Atlanta Hawks  2018-19    9294        3392           0.451    3780.0   \n",
       "2       Atlanta Hawks  2017-18    8475        3130           0.446    3436.0   \n",
       "3       Atlanta Hawks  2016-17    8459        3123           0.451    3635.0   \n",
       "4       Atlanta Hawks  2015-16    8433        3168           0.458    3451.0   \n",
       "..                ...      ...     ...         ...             ...       ...   \n",
       "54  Baltimore Bullets  1965-66    9465        3599           0.438    5542.0   \n",
       "55  Baltimore Bullets  1964-65    9087        3421           0.442    5298.0   \n",
       "56  Baltimore Bullets  1963-64    8948        3456           0.440    5460.0   \n",
       "57    Chicago Zephyrs  1962-63    8795        3371           0.453    5145.0   \n",
       "58    Chicago Packers  1961-62    8874        3461           0.412    5547.0   \n",
       "\n",
       "    assists  steals  blocks  turnovers  \n",
       "0      1605   523.0  2898.0     1086.0  \n",
       "1      2118   675.0  3780.0     1397.0  \n",
       "2      1946   638.0  3436.0     1276.0  \n",
       "3      1938   672.0  3635.0     1294.0  \n",
       "4      2100   747.0  3451.0     1226.0  \n",
       "..      ...     ...     ...        ...  \n",
       "54     1890     NaN  5542.0        NaN  \n",
       "55     1676     NaN  5298.0        NaN  \n",
       "56     1423     NaN  5460.0        NaN  \n",
       "57     1773     NaN  5145.0        NaN  \n",
       "58     1802     NaN  5547.0        NaN  \n",
       "\n",
       "[1543 rows x 10 columns]"
      ]
     },
     "execution_count": 64,
     "metadata": {},
     "output_type": "execute_result"
    }
   ],
   "source": [
    "df_basic_stats"
   ]
  },
  {
   "cell_type": "markdown",
   "metadata": {},
   "source": [
    "### Change names of columns"
   ]
  },
  {
   "cell_type": "code",
   "execution_count": 66,
   "metadata": {},
   "outputs": [
    {
     "data": {
      "text/html": [
       "<div>\n",
       "<style scoped>\n",
       "    .dataframe tbody tr th:only-of-type {\n",
       "        vertical-align: middle;\n",
       "    }\n",
       "\n",
       "    .dataframe tbody tr th {\n",
       "        vertical-align: top;\n",
       "    }\n",
       "\n",
       "    .dataframe thead th {\n",
       "        text-align: right;\n",
       "    }\n",
       "</style>\n",
       "<table border=\"1\" class=\"dataframe\">\n",
       "  <thead>\n",
       "    <tr style=\"text-align: right;\">\n",
       "      <th></th>\n",
       "      <th>Team</th>\n",
       "      <th>Year</th>\n",
       "      <th>Points</th>\n",
       "      <th>Field Goal</th>\n",
       "      <th>FG percentage</th>\n",
       "      <th>Rebounds</th>\n",
       "      <th>Assists</th>\n",
       "      <th>Steals</th>\n",
       "      <th>Blocks</th>\n",
       "      <th>Turnovers</th>\n",
       "    </tr>\n",
       "  </thead>\n",
       "  <tbody>\n",
       "    <tr>\n",
       "      <th>0</th>\n",
       "      <td>Atlanta Hawks</td>\n",
       "      <td>2019-20</td>\n",
       "      <td>7488</td>\n",
       "      <td>2723</td>\n",
       "      <td>0.449</td>\n",
       "      <td>2898.0</td>\n",
       "      <td>1605</td>\n",
       "      <td>523.0</td>\n",
       "      <td>2898.0</td>\n",
       "      <td>1086.0</td>\n",
       "    </tr>\n",
       "    <tr>\n",
       "      <th>1</th>\n",
       "      <td>Atlanta Hawks</td>\n",
       "      <td>2018-19</td>\n",
       "      <td>9294</td>\n",
       "      <td>3392</td>\n",
       "      <td>0.451</td>\n",
       "      <td>3780.0</td>\n",
       "      <td>2118</td>\n",
       "      <td>675.0</td>\n",
       "      <td>3780.0</td>\n",
       "      <td>1397.0</td>\n",
       "    </tr>\n",
       "    <tr>\n",
       "      <th>2</th>\n",
       "      <td>Atlanta Hawks</td>\n",
       "      <td>2017-18</td>\n",
       "      <td>8475</td>\n",
       "      <td>3130</td>\n",
       "      <td>0.446</td>\n",
       "      <td>3436.0</td>\n",
       "      <td>1946</td>\n",
       "      <td>638.0</td>\n",
       "      <td>3436.0</td>\n",
       "      <td>1276.0</td>\n",
       "    </tr>\n",
       "    <tr>\n",
       "      <th>3</th>\n",
       "      <td>Atlanta Hawks</td>\n",
       "      <td>2016-17</td>\n",
       "      <td>8459</td>\n",
       "      <td>3123</td>\n",
       "      <td>0.451</td>\n",
       "      <td>3635.0</td>\n",
       "      <td>1938</td>\n",
       "      <td>672.0</td>\n",
       "      <td>3635.0</td>\n",
       "      <td>1294.0</td>\n",
       "    </tr>\n",
       "    <tr>\n",
       "      <th>4</th>\n",
       "      <td>Atlanta Hawks</td>\n",
       "      <td>2015-16</td>\n",
       "      <td>8433</td>\n",
       "      <td>3168</td>\n",
       "      <td>0.458</td>\n",
       "      <td>3451.0</td>\n",
       "      <td>2100</td>\n",
       "      <td>747.0</td>\n",
       "      <td>3451.0</td>\n",
       "      <td>1226.0</td>\n",
       "    </tr>\n",
       "    <tr>\n",
       "      <th>...</th>\n",
       "      <td>...</td>\n",
       "      <td>...</td>\n",
       "      <td>...</td>\n",
       "      <td>...</td>\n",
       "      <td>...</td>\n",
       "      <td>...</td>\n",
       "      <td>...</td>\n",
       "      <td>...</td>\n",
       "      <td>...</td>\n",
       "      <td>...</td>\n",
       "    </tr>\n",
       "    <tr>\n",
       "      <th>54</th>\n",
       "      <td>Baltimore Bullets</td>\n",
       "      <td>1965-66</td>\n",
       "      <td>9465</td>\n",
       "      <td>3599</td>\n",
       "      <td>0.438</td>\n",
       "      <td>5542.0</td>\n",
       "      <td>1890</td>\n",
       "      <td>NaN</td>\n",
       "      <td>5542.0</td>\n",
       "      <td>NaN</td>\n",
       "    </tr>\n",
       "    <tr>\n",
       "      <th>55</th>\n",
       "      <td>Baltimore Bullets</td>\n",
       "      <td>1964-65</td>\n",
       "      <td>9087</td>\n",
       "      <td>3421</td>\n",
       "      <td>0.442</td>\n",
       "      <td>5298.0</td>\n",
       "      <td>1676</td>\n",
       "      <td>NaN</td>\n",
       "      <td>5298.0</td>\n",
       "      <td>NaN</td>\n",
       "    </tr>\n",
       "    <tr>\n",
       "      <th>56</th>\n",
       "      <td>Baltimore Bullets</td>\n",
       "      <td>1963-64</td>\n",
       "      <td>8948</td>\n",
       "      <td>3456</td>\n",
       "      <td>0.440</td>\n",
       "      <td>5460.0</td>\n",
       "      <td>1423</td>\n",
       "      <td>NaN</td>\n",
       "      <td>5460.0</td>\n",
       "      <td>NaN</td>\n",
       "    </tr>\n",
       "    <tr>\n",
       "      <th>57</th>\n",
       "      <td>Chicago Zephyrs</td>\n",
       "      <td>1962-63</td>\n",
       "      <td>8795</td>\n",
       "      <td>3371</td>\n",
       "      <td>0.453</td>\n",
       "      <td>5145.0</td>\n",
       "      <td>1773</td>\n",
       "      <td>NaN</td>\n",
       "      <td>5145.0</td>\n",
       "      <td>NaN</td>\n",
       "    </tr>\n",
       "    <tr>\n",
       "      <th>58</th>\n",
       "      <td>Chicago Packers</td>\n",
       "      <td>1961-62</td>\n",
       "      <td>8874</td>\n",
       "      <td>3461</td>\n",
       "      <td>0.412</td>\n",
       "      <td>5547.0</td>\n",
       "      <td>1802</td>\n",
       "      <td>NaN</td>\n",
       "      <td>5547.0</td>\n",
       "      <td>NaN</td>\n",
       "    </tr>\n",
       "  </tbody>\n",
       "</table>\n",
       "<p>1543 rows × 10 columns</p>\n",
       "</div>"
      ],
      "text/plain": [
       "                 Team     Year  Points  Field Goal  FG percentage  Rebounds  \\\n",
       "0       Atlanta Hawks  2019-20    7488        2723          0.449    2898.0   \n",
       "1       Atlanta Hawks  2018-19    9294        3392          0.451    3780.0   \n",
       "2       Atlanta Hawks  2017-18    8475        3130          0.446    3436.0   \n",
       "3       Atlanta Hawks  2016-17    8459        3123          0.451    3635.0   \n",
       "4       Atlanta Hawks  2015-16    8433        3168          0.458    3451.0   \n",
       "..                ...      ...     ...         ...            ...       ...   \n",
       "54  Baltimore Bullets  1965-66    9465        3599          0.438    5542.0   \n",
       "55  Baltimore Bullets  1964-65    9087        3421          0.442    5298.0   \n",
       "56  Baltimore Bullets  1963-64    8948        3456          0.440    5460.0   \n",
       "57    Chicago Zephyrs  1962-63    8795        3371          0.453    5145.0   \n",
       "58    Chicago Packers  1961-62    8874        3461          0.412    5547.0   \n",
       "\n",
       "    Assists  Steals  Blocks  Turnovers  \n",
       "0      1605   523.0  2898.0     1086.0  \n",
       "1      2118   675.0  3780.0     1397.0  \n",
       "2      1946   638.0  3436.0     1276.0  \n",
       "3      1938   672.0  3635.0     1294.0  \n",
       "4      2100   747.0  3451.0     1226.0  \n",
       "..      ...     ...     ...        ...  \n",
       "54     1890     NaN  5542.0        NaN  \n",
       "55     1676     NaN  5298.0        NaN  \n",
       "56     1423     NaN  5460.0        NaN  \n",
       "57     1773     NaN  5145.0        NaN  \n",
       "58     1802     NaN  5547.0        NaN  \n",
       "\n",
       "[1543 rows x 10 columns]"
      ]
     },
     "execution_count": 66,
     "metadata": {},
     "output_type": "execute_result"
    }
   ],
   "source": [
    "df_basic_stats.rename(columns={'team':'Team', 'year':'Year', 'points':'Points', 'field_goal':'Field Goal', \n",
    "                         'field_goal_pct':'FG percentage', 'rebounds':'Rebounds', 'assists':'Assists', \n",
    "                         'steals':'Steals', 'blocks':'Blocks',\n",
    "                         'turnovers':'Turnovers'}, inplace=True)\n",
    "\n",
    "df_basic_stats"
   ]
  },
  {
   "cell_type": "markdown",
   "metadata": {},
   "source": [
    "### Reindex the DataFrame"
   ]
  },
  {
   "cell_type": "code",
   "execution_count": 68,
   "metadata": {},
   "outputs": [],
   "source": [
    "# How many rows will we need\n",
    "nrows=df_basic_stats.shape[0]\n",
    "# now let's create an index with these rows\n",
    "index=pd.Index(range(nrows), name='Rows')\n",
    "# replace the index\n",
    "df_basic_stats.set_index(index, inplace = True)"
   ]
  },
  {
   "cell_type": "code",
   "execution_count": 69,
   "metadata": {},
   "outputs": [
    {
     "data": {
      "text/html": [
       "<div>\n",
       "<style scoped>\n",
       "    .dataframe tbody tr th:only-of-type {\n",
       "        vertical-align: middle;\n",
       "    }\n",
       "\n",
       "    .dataframe tbody tr th {\n",
       "        vertical-align: top;\n",
       "    }\n",
       "\n",
       "    .dataframe thead th {\n",
       "        text-align: right;\n",
       "    }\n",
       "</style>\n",
       "<table border=\"1\" class=\"dataframe\">\n",
       "  <thead>\n",
       "    <tr style=\"text-align: right;\">\n",
       "      <th></th>\n",
       "      <th>Team</th>\n",
       "      <th>Year</th>\n",
       "      <th>Points</th>\n",
       "      <th>Field Goal</th>\n",
       "      <th>FG percentage</th>\n",
       "      <th>Rebounds</th>\n",
       "      <th>Assists</th>\n",
       "      <th>Steals</th>\n",
       "      <th>Blocks</th>\n",
       "      <th>Turnovers</th>\n",
       "    </tr>\n",
       "    <tr>\n",
       "      <th>Rows</th>\n",
       "      <th></th>\n",
       "      <th></th>\n",
       "      <th></th>\n",
       "      <th></th>\n",
       "      <th></th>\n",
       "      <th></th>\n",
       "      <th></th>\n",
       "      <th></th>\n",
       "      <th></th>\n",
       "      <th></th>\n",
       "    </tr>\n",
       "  </thead>\n",
       "  <tbody>\n",
       "    <tr>\n",
       "      <th>0</th>\n",
       "      <td>Atlanta Hawks</td>\n",
       "      <td>2019-20</td>\n",
       "      <td>7488</td>\n",
       "      <td>2723</td>\n",
       "      <td>0.449</td>\n",
       "      <td>2898.0</td>\n",
       "      <td>1605</td>\n",
       "      <td>523.0</td>\n",
       "      <td>2898.0</td>\n",
       "      <td>1086.0</td>\n",
       "    </tr>\n",
       "    <tr>\n",
       "      <th>1</th>\n",
       "      <td>Atlanta Hawks</td>\n",
       "      <td>2018-19</td>\n",
       "      <td>9294</td>\n",
       "      <td>3392</td>\n",
       "      <td>0.451</td>\n",
       "      <td>3780.0</td>\n",
       "      <td>2118</td>\n",
       "      <td>675.0</td>\n",
       "      <td>3780.0</td>\n",
       "      <td>1397.0</td>\n",
       "    </tr>\n",
       "    <tr>\n",
       "      <th>2</th>\n",
       "      <td>Atlanta Hawks</td>\n",
       "      <td>2017-18</td>\n",
       "      <td>8475</td>\n",
       "      <td>3130</td>\n",
       "      <td>0.446</td>\n",
       "      <td>3436.0</td>\n",
       "      <td>1946</td>\n",
       "      <td>638.0</td>\n",
       "      <td>3436.0</td>\n",
       "      <td>1276.0</td>\n",
       "    </tr>\n",
       "    <tr>\n",
       "      <th>3</th>\n",
       "      <td>Atlanta Hawks</td>\n",
       "      <td>2016-17</td>\n",
       "      <td>8459</td>\n",
       "      <td>3123</td>\n",
       "      <td>0.451</td>\n",
       "      <td>3635.0</td>\n",
       "      <td>1938</td>\n",
       "      <td>672.0</td>\n",
       "      <td>3635.0</td>\n",
       "      <td>1294.0</td>\n",
       "    </tr>\n",
       "    <tr>\n",
       "      <th>4</th>\n",
       "      <td>Atlanta Hawks</td>\n",
       "      <td>2015-16</td>\n",
       "      <td>8433</td>\n",
       "      <td>3168</td>\n",
       "      <td>0.458</td>\n",
       "      <td>3451.0</td>\n",
       "      <td>2100</td>\n",
       "      <td>747.0</td>\n",
       "      <td>3451.0</td>\n",
       "      <td>1226.0</td>\n",
       "    </tr>\n",
       "    <tr>\n",
       "      <th>...</th>\n",
       "      <td>...</td>\n",
       "      <td>...</td>\n",
       "      <td>...</td>\n",
       "      <td>...</td>\n",
       "      <td>...</td>\n",
       "      <td>...</td>\n",
       "      <td>...</td>\n",
       "      <td>...</td>\n",
       "      <td>...</td>\n",
       "      <td>...</td>\n",
       "    </tr>\n",
       "    <tr>\n",
       "      <th>1538</th>\n",
       "      <td>Baltimore Bullets</td>\n",
       "      <td>1965-66</td>\n",
       "      <td>9465</td>\n",
       "      <td>3599</td>\n",
       "      <td>0.438</td>\n",
       "      <td>5542.0</td>\n",
       "      <td>1890</td>\n",
       "      <td>NaN</td>\n",
       "      <td>5542.0</td>\n",
       "      <td>NaN</td>\n",
       "    </tr>\n",
       "    <tr>\n",
       "      <th>1539</th>\n",
       "      <td>Baltimore Bullets</td>\n",
       "      <td>1964-65</td>\n",
       "      <td>9087</td>\n",
       "      <td>3421</td>\n",
       "      <td>0.442</td>\n",
       "      <td>5298.0</td>\n",
       "      <td>1676</td>\n",
       "      <td>NaN</td>\n",
       "      <td>5298.0</td>\n",
       "      <td>NaN</td>\n",
       "    </tr>\n",
       "    <tr>\n",
       "      <th>1540</th>\n",
       "      <td>Baltimore Bullets</td>\n",
       "      <td>1963-64</td>\n",
       "      <td>8948</td>\n",
       "      <td>3456</td>\n",
       "      <td>0.440</td>\n",
       "      <td>5460.0</td>\n",
       "      <td>1423</td>\n",
       "      <td>NaN</td>\n",
       "      <td>5460.0</td>\n",
       "      <td>NaN</td>\n",
       "    </tr>\n",
       "    <tr>\n",
       "      <th>1541</th>\n",
       "      <td>Chicago Zephyrs</td>\n",
       "      <td>1962-63</td>\n",
       "      <td>8795</td>\n",
       "      <td>3371</td>\n",
       "      <td>0.453</td>\n",
       "      <td>5145.0</td>\n",
       "      <td>1773</td>\n",
       "      <td>NaN</td>\n",
       "      <td>5145.0</td>\n",
       "      <td>NaN</td>\n",
       "    </tr>\n",
       "    <tr>\n",
       "      <th>1542</th>\n",
       "      <td>Chicago Packers</td>\n",
       "      <td>1961-62</td>\n",
       "      <td>8874</td>\n",
       "      <td>3461</td>\n",
       "      <td>0.412</td>\n",
       "      <td>5547.0</td>\n",
       "      <td>1802</td>\n",
       "      <td>NaN</td>\n",
       "      <td>5547.0</td>\n",
       "      <td>NaN</td>\n",
       "    </tr>\n",
       "  </tbody>\n",
       "</table>\n",
       "<p>1543 rows × 10 columns</p>\n",
       "</div>"
      ],
      "text/plain": [
       "                   Team     Year  Points  Field Goal  FG percentage  Rebounds  \\\n",
       "Rows                                                                            \n",
       "0         Atlanta Hawks  2019-20    7488        2723          0.449    2898.0   \n",
       "1         Atlanta Hawks  2018-19    9294        3392          0.451    3780.0   \n",
       "2         Atlanta Hawks  2017-18    8475        3130          0.446    3436.0   \n",
       "3         Atlanta Hawks  2016-17    8459        3123          0.451    3635.0   \n",
       "4         Atlanta Hawks  2015-16    8433        3168          0.458    3451.0   \n",
       "...                 ...      ...     ...         ...            ...       ...   \n",
       "1538  Baltimore Bullets  1965-66    9465        3599          0.438    5542.0   \n",
       "1539  Baltimore Bullets  1964-65    9087        3421          0.442    5298.0   \n",
       "1540  Baltimore Bullets  1963-64    8948        3456          0.440    5460.0   \n",
       "1541    Chicago Zephyrs  1962-63    8795        3371          0.453    5145.0   \n",
       "1542    Chicago Packers  1961-62    8874        3461          0.412    5547.0   \n",
       "\n",
       "      Assists  Steals  Blocks  Turnovers  \n",
       "Rows                                      \n",
       "0        1605   523.0  2898.0     1086.0  \n",
       "1        2118   675.0  3780.0     1397.0  \n",
       "2        1946   638.0  3436.0     1276.0  \n",
       "3        1938   672.0  3635.0     1294.0  \n",
       "4        2100   747.0  3451.0     1226.0  \n",
       "...       ...     ...     ...        ...  \n",
       "1538     1890     NaN  5542.0        NaN  \n",
       "1539     1676     NaN  5298.0        NaN  \n",
       "1540     1423     NaN  5460.0        NaN  \n",
       "1541     1773     NaN  5145.0        NaN  \n",
       "1542     1802     NaN  5547.0        NaN  \n",
       "\n",
       "[1543 rows x 10 columns]"
      ]
     },
     "execution_count": 69,
     "metadata": {},
     "output_type": "execute_result"
    }
   ],
   "source": [
    "df_basic_stats"
   ]
  },
  {
   "cell_type": "markdown",
   "metadata": {},
   "source": [
    "### Matpolib plot"
   ]
  },
  {
   "cell_type": "code",
   "execution_count": 75,
   "metadata": {},
   "outputs": [
    {
     "data": {
      "text/plain": [
       "<matplotlib.axes._subplots.AxesSubplot at 0x1ab80610340>"
      ]
     },
     "execution_count": 75,
     "metadata": {},
     "output_type": "execute_result"
    },
    {
     "data": {
      "image/png": "[encoded data removed]",
      "text/plain": [
       "<Figure size 432x288 with 1 Axes>"
      ]
     },
     "metadata": {
      "needs_background": "light"
     },
     "output_type": "display_data"
    }
   ],
   "source": [
    "df_basic_stats.Points.plot()\n",
    "df_basic_stats.Rebounds.plot()\n",
    "df_basic_stats.Assists.plot()"
   ]
  },
  {
   "cell_type": "markdown",
   "metadata": {},
   "source": [
    "# Export of the 2 DataFrames to CSV"
   ]
  },
  {
   "cell_type": "code",
   "execution_count": 77,
   "metadata": {},
   "outputs": [],
   "source": [
    "df_teams.to_csv('teams_index.csv', index=False)"
   ]
  },
  {
   "cell_type": "code",
   "execution_count": 78,
   "metadata": {},
   "outputs": [],
   "source": [
    "df_basic_stats.to_csv('teams_stats.csv', index=False)"
   ]
  }
 ],
 "metadata": {
  "kernelspec": {
   "display_name": "Python 3",
   "language": "python",
   "name": "python3"
  },
  "language_info": {
   "codemirror_mode": {
    "name": "ipython",
    "version": 3
   },
   "file_extension": ".py",
   "mimetype": "text/x-python",
   "name": "python",
   "nbconvert_exporter": "python",
   "pygments_lexer": "ipython3",
   "version": "3.8.3"
  }
 },
 "nbformat": 4,
 "nbformat_minor": 4
}

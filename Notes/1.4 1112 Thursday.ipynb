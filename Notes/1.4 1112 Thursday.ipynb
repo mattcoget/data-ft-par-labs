{
 "cells": [
  {
   "cell_type": "markdown",
   "metadata": {
    "toc": true
   },
   "source": [
    "<h1>Table of Contents<span class=\"tocSkip\"></span></h1>\n",
    "<div class=\"toc\"><ul class=\"toc-item\"><li><span><a href=\"#3-paradigmas\" data-toc-modified-id=\"3-paradigmas-1\"><span class=\"toc-item-num\">1&nbsp;&nbsp;</span>3 paradigmas</a></span><ul class=\"toc-item\"><li><span><a href=\"#Procedural\" data-toc-modified-id=\"Procedural-1.1\"><span class=\"toc-item-num\">1.1&nbsp;&nbsp;</span>Procedural</a></span></li><li><span><a href=\"#Functional\" data-toc-modified-id=\"Functional-1.2\"><span class=\"toc-item-num\">1.2&nbsp;&nbsp;</span>Functional</a></span></li><li><span><a href=\"#Object-Oriented-(OOP)\" data-toc-modified-id=\"Object-Oriented-(OOP)-1.3\"><span class=\"toc-item-num\">1.3&nbsp;&nbsp;</span>Object Oriented (OOP)</a></span></li><li><span><a href=\"#Declarative\" data-toc-modified-id=\"Declarative-1.4\"><span class=\"toc-item-num\">1.4&nbsp;&nbsp;</span>Declarative</a></span></li><li><span><a href=\"#Imperative\" data-toc-modified-id=\"Imperative-1.5\"><span class=\"toc-item-num\">1.5&nbsp;&nbsp;</span>Imperative</a></span></li></ul></li><li><span><a href=\"#Mobile-Phone-v1\" data-toc-modified-id=\"Mobile-Phone-v1-2\"><span class=\"toc-item-num\">2&nbsp;&nbsp;</span>Mobile Phone v1</a></span></li><li><span><a href=\"#Mobile-phone-v2\" data-toc-modified-id=\"Mobile-phone-v2-3\"><span class=\"toc-item-num\">3&nbsp;&nbsp;</span>Mobile phone v2</a></span></li></ul></div>"
   ]
  },
  {
   "cell_type": "markdown",
   "metadata": {},
   "source": [
    "# 3 paradigmas"
   ]
  },
  {
   "cell_type": "markdown",
   "metadata": {},
   "source": [
    "## Procedural"
   ]
  },
  {
   "cell_type": "code",
   "execution_count": 1,
   "metadata": {},
   "outputs": [
    {
     "name": "stdout",
     "output_type": "stream",
     "text": [
      "The length of the word is 8\n"
     ]
    }
   ],
   "source": [
    "word='computer'\n",
    "length = 0\n",
    "\n",
    "for i in word:\n",
    "    length += 1\n",
    "print('The length of the word is', length)"
   ]
  },
  {
   "cell_type": "markdown",
   "metadata": {},
   "source": [
    "<img src='https://upload.wikimedia.org/wikipedia/commons/thumb/b/b1/Kopimizm.svg/220px-Kopimizm.svg.png'> "
   ]
  },
  {
   "cell_type": "markdown",
   "metadata": {},
   "source": [
    "## Functional"
   ]
  },
  {
   "cell_type": "code",
   "execution_count": 2,
   "metadata": {},
   "outputs": [],
   "source": [
    "def length_of_the_word(word):\n",
    "    length = 0\n",
    "    for i in word:\n",
    "        length += 1\n",
    "    print('The length of the word is', length)\n",
    "    return length"
   ]
  },
  {
   "cell_type": "code",
   "execution_count": 3,
   "metadata": {},
   "outputs": [
    {
     "name": "stdout",
     "output_type": "stream",
     "text": [
      "The length of the word is 5\n",
      "the value of booo is  5\n"
     ]
    }
   ],
   "source": [
    "boooo=length_of_the_word('boooo')\n",
    "print('the value of booo is ',boooo)"
   ]
  },
  {
   "cell_type": "code",
   "execution_count": 4,
   "metadata": {},
   "outputs": [
    {
     "name": "stdout",
     "output_type": "stream",
     "text": [
      "The length of the word is 13\n"
     ]
    },
    {
     "data": {
      "text/plain": [
       "13"
      ]
     },
     "execution_count": 4,
     "metadata": {},
     "output_type": "execute_result"
    }
   ],
   "source": [
    "length_of_the_word('Where is Love')"
   ]
  },
  {
   "cell_type": "markdown",
   "metadata": {},
   "source": [
    "***Important when we apply a lot of operations to a fixed number of variables. ***"
   ]
  },
  {
   "cell_type": "markdown",
   "metadata": {},
   "source": [
    "## Object Oriented (OOP)"
   ]
  },
  {
   "cell_type": "markdown",
   "metadata": {},
   "source": [
    "```python\n",
    "class class_name:\n",
    "    \n",
    "    global attributes are defined here\n",
    "    \n",
    "    def __init__(self, mandatory1, mandatory2, optional1=default_value, optional2=default_value):\n",
    "        #this is an initialization function.\n",
    "        #self is an object of the class\n",
    "        self.mandatory1=mandatory1\n",
    "        self.mandatory2=mandatory2\n",
    "        self.optional1=optional1\n",
    "        self.optional2=optional2\n",
    "    \n",
    "    def any_other_function(self,arguments):\n",
    "        #body of the function\n",
    "```"
   ]
  },
  {
   "cell_type": "code",
   "execution_count": 5,
   "metadata": {},
   "outputs": [],
   "source": [
    "class Dog:\n",
    "    \n",
    "    species='mammals'\n",
    "    \n",
    "    def __init__(self, name, age, owner=''):\n",
    "        self.name=name\n",
    "        self.age=age\n",
    "        self.owner=owner\n",
    "        \n",
    "    def voice(self):\n",
    "        print('bark! bark!')"
   ]
  },
  {
   "cell_type": "code",
   "execution_count": 6,
   "metadata": {},
   "outputs": [],
   "source": [
    "dog_1=Dog('bobby',1)"
   ]
  },
  {
   "cell_type": "code",
   "execution_count": 7,
   "metadata": {},
   "outputs": [
    {
     "name": "stdout",
     "output_type": "stream",
     "text": [
      "bark! bark!\n"
     ]
    }
   ],
   "source": [
    "dog_1.voice()"
   ]
  },
  {
   "cell_type": "markdown",
   "metadata": {},
   "source": [
    "## Declarative"
   ]
  },
  {
   "cell_type": "markdown",
   "metadata": {},
   "source": [
    "## Imperative"
   ]
  },
  {
   "cell_type": "markdown",
   "metadata": {},
   "source": [
    "Example: Omelette recipe. According to delish website the algorithm is following:\n",
    "\n",
    "1. In a medium bowl, beat eggs until no whites remain, then season with salt, pepper, and a pinch red pepper flakes.  \n",
    "2. In a medium non-stick skillet over medium heat, melt butter. Pour in eggs and tilt pan so eggs fully cover the entire pan. As eggs start to set, use a rubber spatula to drag cooked edges into center of pan. Tilt pan to let uncooked egg fall to the edge of the pan.  \n",
    "3. Once the bottom is set, but top is still a little wet, sprinkle cheese and chives on one half of omelet. Fold other side over cheese and slide omelet onto a plate."
   ]
  },
  {
   "cell_type": "markdown",
   "metadata": {},
   "source": [
    "# Mobile Phone v1"
   ]
  },
  {
   "cell_type": "code",
   "execution_count": 8,
   "metadata": {},
   "outputs": [],
   "source": [
    "contact_list={'Huey':3761111111, 'Dewey':3761222222, 'Louie':3761333333}\n",
    "made_calls={}\n",
    "received_calls={}\n",
    "sent_sms={}\n",
    "received_sms={}"
   ]
  },
  {
   "cell_type": "markdown",
   "metadata": {},
   "source": [
    "```python\n",
    "def function_name(mandatory_arg1, mandatory_arg2, optional_arg1=default_value, optional_arg2=default_value):\n",
    "    the body of the function\n",
    "    return output\n",
    "```"
   ]
  },
  {
   "cell_type": "code",
   "execution_count": 9,
   "metadata": {},
   "outputs": [],
   "source": [
    "def add_contacts(name, phone_number, cl=contact_list):\n",
    "    cl.update({name:phone_number})\n",
    "    return cl"
   ]
  },
  {
   "cell_type": "code",
   "execution_count": 10,
   "metadata": {},
   "outputs": [
    {
     "data": {
      "text/plain": [
       "{'Huey': 3761111111,\n",
       " 'Dewey': 3761222222,\n",
       " 'Louie': 3761333333,\n",
       " 'Launchpad McQuack': 3761444444}"
      ]
     },
     "execution_count": 10,
     "metadata": {},
     "output_type": "execute_result"
    }
   ],
   "source": [
    "add_contacts('Launchpad McQuack', 3761444444)"
   ]
  },
  {
   "cell_type": "code",
   "execution_count": 11,
   "metadata": {},
   "outputs": [],
   "source": [
    "def add_contacts(name, phone_number, cl=contact_list):\n",
    "    if name in cl.keys():\n",
    "        print('Sorry, this name is already occupied. Contact is not saved.')\n",
    "    else:\n",
    "        cl[name]=phone_number\n",
    "    return cl"
   ]
  },
  {
   "cell_type": "code",
   "execution_count": 12,
   "metadata": {},
   "outputs": [
    {
     "data": {
      "text/plain": [
       "{'Huey': 3761111111,\n",
       " 'Dewey': 3761222222,\n",
       " 'Louie': 3761333333,\n",
       " 'Launchpad McQuack': 3761444444}"
      ]
     },
     "execution_count": 12,
     "metadata": {},
     "output_type": "execute_result"
    }
   ],
   "source": [
    "contact_list"
   ]
  },
  {
   "cell_type": "code",
   "execution_count": 13,
   "metadata": {},
   "outputs": [
    {
     "name": "stdout",
     "output_type": "stream",
     "text": [
      "Sorry, this name is already occupied. Contact is not saved.\n"
     ]
    },
    {
     "data": {
      "text/plain": [
       "{'Huey': 3761111111,\n",
       " 'Dewey': 3761222222,\n",
       " 'Louie': 3761333333,\n",
       " 'Launchpad McQuack': 3761444444}"
      ]
     },
     "execution_count": 13,
     "metadata": {},
     "output_type": "execute_result"
    }
   ],
   "source": [
    "add_contacts('Huey',3761555555)"
   ]
  },
  {
   "cell_type": "code",
   "execution_count": 14,
   "metadata": {},
   "outputs": [],
   "source": [
    "contact_list=add_contacts('Huey1',3761555555)"
   ]
  },
  {
   "cell_type": "code",
   "execution_count": 15,
   "metadata": {},
   "outputs": [],
   "source": [
    "contact_list=add_contacts('Huey2',3761555555)"
   ]
  },
  {
   "cell_type": "code",
   "execution_count": 16,
   "metadata": {},
   "outputs": [],
   "source": [
    "def add_contacts(name, phone_number):\n",
    "    cl=contact_list.copy()\n",
    "    if name in cl.keys():\n",
    "        print('Sorry, this name is already occupied. Contact is not saved.')\n",
    "    else:\n",
    "        cl[name]=phone_number\n",
    "    return cl\n",
    "\n",
    "def remove_contact(name):\n",
    "    cl=contact_list.copy()\n",
    "    if name in cl.keys():\n",
    "        del cl[name]\n",
    "    else:\n",
    "        print('Sorry, you dont know this guy. ')\n",
    "    return cl"
   ]
  },
  {
   "cell_type": "code",
   "execution_count": 17,
   "metadata": {},
   "outputs": [],
   "source": [
    "contact_list=add_contacts('boo',11)"
   ]
  },
  {
   "cell_type": "code",
   "execution_count": 18,
   "metadata": {},
   "outputs": [],
   "source": [
    "contact_list=remove_contact('boo')"
   ]
  },
  {
   "cell_type": "code",
   "execution_count": 19,
   "metadata": {},
   "outputs": [],
   "source": [
    "contact_list=remove_contact('Huey1')"
   ]
  },
  {
   "cell_type": "code",
   "execution_count": 20,
   "metadata": {},
   "outputs": [],
   "source": [
    "contact_list=remove_contact('Huey2')"
   ]
  },
  {
   "cell_type": "code",
   "execution_count": 21,
   "metadata": {},
   "outputs": [
    {
     "name": "stdout",
     "output_type": "stream",
     "text": [
      "Sorry, you dont know this guy. \n"
     ]
    }
   ],
   "source": [
    "contact_list=remove_contact('Huey2')"
   ]
  },
  {
   "cell_type": "code",
   "execution_count": 1,
   "metadata": {},
   "outputs": [],
   "source": [
    "import time\n",
    "\n",
    "def make_a_call(phone_number):\n",
    "    mc=made_calls.copy()\n",
    "    cl=contact_list.copy()\n",
    "    \n",
    "    if phone_number in cl.values():\n",
    "        name=[n for n,p in cl.items() if p==phone_number][0]\n",
    "    else:\n",
    "        name=str(phone_number)\n",
    "    print('Dialing',name)\n",
    "    time.sleep(1)\n",
    "    print('.')\n",
    "    time.sleep(1)\n",
    "    print('.')\n",
    "    time.sleep(1)\n",
    "    print('.')\n",
    "    \n",
    "    t=time.localtime()\n",
    "    current_time=time.strftime(\"%H:%M:%S\",t)\n",
    "#    print(current_time)\n",
    "    \n",
    "    mc[current_time]=name\n",
    "    return mc"
   ]
  },
  {
   "cell_type": "code",
   "execution_count": 2,
   "metadata": {},
   "outputs": [
    {
     "ename": "NameError",
     "evalue": "name 'made_calls' is not defined",
     "output_type": "error",
     "traceback": [
      "\u001b[1;31m---------------------------------------------------------------------------\u001b[0m",
      "\u001b[1;31mNameError\u001b[0m                                 Traceback (most recent call last)",
      "\u001b[1;32m<ipython-input-2-ab360ae5b79c>\u001b[0m in \u001b[0;36m<module>\u001b[1;34m\u001b[0m\n\u001b[1;32m----> 1\u001b[1;33m \u001b[0mmade_calls\u001b[0m\u001b[1;33m=\u001b[0m\u001b[0mmake_a_call\u001b[0m\u001b[1;33m(\u001b[0m\u001b[1;36m3761555555\u001b[0m\u001b[1;33m)\u001b[0m\u001b[1;33m\u001b[0m\u001b[1;33m\u001b[0m\u001b[0m\n\u001b[0m",
      "\u001b[1;32m<ipython-input-1-8aabbf426836>\u001b[0m in \u001b[0;36mmake_a_call\u001b[1;34m(phone_number)\u001b[0m\n\u001b[0;32m      2\u001b[0m \u001b[1;33m\u001b[0m\u001b[0m\n\u001b[0;32m      3\u001b[0m \u001b[1;32mdef\u001b[0m \u001b[0mmake_a_call\u001b[0m\u001b[1;33m(\u001b[0m\u001b[0mphone_number\u001b[0m\u001b[1;33m)\u001b[0m\u001b[1;33m:\u001b[0m\u001b[1;33m\u001b[0m\u001b[1;33m\u001b[0m\u001b[0m\n\u001b[1;32m----> 4\u001b[1;33m     \u001b[0mmc\u001b[0m\u001b[1;33m=\u001b[0m\u001b[0mmade_calls\u001b[0m\u001b[1;33m.\u001b[0m\u001b[0mcopy\u001b[0m\u001b[1;33m(\u001b[0m\u001b[1;33m)\u001b[0m\u001b[1;33m\u001b[0m\u001b[1;33m\u001b[0m\u001b[0m\n\u001b[0m\u001b[0;32m      5\u001b[0m     \u001b[0mcl\u001b[0m\u001b[1;33m=\u001b[0m\u001b[0mcontact_list\u001b[0m\u001b[1;33m.\u001b[0m\u001b[0mcopy\u001b[0m\u001b[1;33m(\u001b[0m\u001b[1;33m)\u001b[0m\u001b[1;33m\u001b[0m\u001b[1;33m\u001b[0m\u001b[0m\n\u001b[0;32m      6\u001b[0m \u001b[1;33m\u001b[0m\u001b[0m\n",
      "\u001b[1;31mNameError\u001b[0m: name 'made_calls' is not defined"
     ]
    }
   ],
   "source": [
    "made_calls=make_a_call(3761555555)"
   ]
  },
  {
   "cell_type": "code",
   "execution_count": 3,
   "metadata": {},
   "outputs": [
    {
     "ename": "NameError",
     "evalue": "name 'made_calls' is not defined",
     "output_type": "error",
     "traceback": [
      "\u001b[1;31m---------------------------------------------------------------------------\u001b[0m",
      "\u001b[1;31mNameError\u001b[0m                                 Traceback (most recent call last)",
      "\u001b[1;32m<ipython-input-3-3a1892497e6f>\u001b[0m in \u001b[0;36m<module>\u001b[1;34m\u001b[0m\n\u001b[1;32m----> 1\u001b[1;33m \u001b[0mmade_calls\u001b[0m\u001b[1;33m\u001b[0m\u001b[1;33m\u001b[0m\u001b[0m\n\u001b[0m",
      "\u001b[1;31mNameError\u001b[0m: name 'made_calls' is not defined"
     ]
    }
   ],
   "source": [
    "made_calls"
   ]
  },
  {
   "cell_type": "code",
   "execution_count": 25,
   "metadata": {},
   "outputs": [
    {
     "name": "stdout",
     "output_type": "stream",
     "text": [
      "{'Huey': 3761111111, 'Dewey': 3761222222, 'Louie': 3761333333, 'Launchpad McQuack': 3761444444}\n"
     ]
    },
    {
     "data": {
      "text/plain": [
       "dict_items([('Huey', 3761111111), ('Dewey', 3761222222), ('Louie', 3761333333), ('Launchpad McQuack', 3761444444)])"
      ]
     },
     "execution_count": 25,
     "metadata": {},
     "output_type": "execute_result"
    }
   ],
   "source": [
    "print(contact_list)\n",
    "contact_list.items()"
   ]
  },
  {
   "cell_type": "code",
   "execution_count": 26,
   "metadata": {},
   "outputs": [],
   "source": [
    "def receive_a_call(phone_number):\n",
    "    rc=received_calls.copy()\n",
    "    cl=contact_list.copy()\n",
    "    \n",
    "    if phone_number in cl.values():\n",
    "        name=[n for n,p in cl.items() if p==phone_number][0]\n",
    "    else:\n",
    "        name=str(phone_number)\n",
    "    print(name, 'is calling ya')\n",
    "    time.sleep(1)\n",
    "    print('.')\n",
    "    time.sleep(1)\n",
    "    print('.')\n",
    "    time.sleep(1)\n",
    "    print('.')\n",
    "    \n",
    "    t=time.localtime()\n",
    "    current_time=time.strftime(\"%H:%M:%S\",t)\n",
    "#    print(current_time)\n",
    "    \n",
    "    rc[current_time]=name\n",
    "    return rc"
   ]
  },
  {
   "cell_type": "code",
   "execution_count": 27,
   "metadata": {},
   "outputs": [],
   "source": [
    "def send_an_sms(phone_number, text):\n",
    "    smsl=sent_sms.copy()\n",
    "    cl=contact_list.copy()\n",
    "    if phone_number in cl.values():\n",
    "        name=[n for n,p in cl.items() if p==phone_number][0]\n",
    "    else:\n",
    "        name=str(phone_number)\n",
    "    print('Sending sms to ',name)\n",
    "    time.sleep(1)\n",
    "    print('.')\n",
    "    time.sleep(1)\n",
    "    print('.')\n",
    "    t=time.localtime()\n",
    "    current_time=time.strftime(\"%H:%M:%S\",t)\n",
    "    \n",
    "    if name in smsl.keys():\n",
    "        smsl[name][current_time]=text\n",
    "    else:\n",
    "        smsl[name]={current_time:text}\n",
    "    \n",
    "    \n",
    "    return smsl"
   ]
  },
  {
   "cell_type": "markdown",
   "metadata": {},
   "source": [
    "sms_list:\n",
    "```python\n",
    "{'Dewey':{\n",
    "    'time':'sms1',\n",
    "    'time':'sms2',\n",
    "    ...\n",
    "         }\n",
    "}\n",
    "```\n",
    "\n",
    "The problem is:\n",
    "* if Dewey is in the SMS list already - add a time-text pair into the dictionary of Dewey\n",
    "* else - create Dewey in sms list as Dewey:{time:text}"
   ]
  },
  {
   "cell_type": "code",
   "execution_count": 28,
   "metadata": {},
   "outputs": [
    {
     "name": "stdout",
     "output_type": "stream",
     "text": [
      "Sending sms to  Huey\n",
      ".\n",
      ".\n"
     ]
    }
   ],
   "source": [
    "sent_sms=send_an_sms(3761111111, 'hello')"
   ]
  },
  {
   "cell_type": "code",
   "execution_count": 29,
   "metadata": {},
   "outputs": [
    {
     "data": {
      "text/plain": [
       "{'Huey': {'08:38:43': 'hello'}}"
      ]
     },
     "execution_count": 29,
     "metadata": {},
     "output_type": "execute_result"
    }
   ],
   "source": [
    "sent_sms"
   ]
  },
  {
   "cell_type": "code",
   "execution_count": 30,
   "metadata": {},
   "outputs": [
    {
     "name": "stdout",
     "output_type": "stream",
     "text": [
      "Sending sms to  Huey\n",
      ".\n",
      ".\n"
     ]
    }
   ],
   "source": [
    "sent_sms=send_an_sms(3761111111, 'how are you?')"
   ]
  },
  {
   "cell_type": "code",
   "execution_count": 31,
   "metadata": {},
   "outputs": [
    {
     "data": {
      "text/plain": [
       "{'Huey': {'08:38:43': 'hello', '08:38:45': 'how are you?'}}"
      ]
     },
     "execution_count": 31,
     "metadata": {},
     "output_type": "execute_result"
    }
   ],
   "source": [
    "sent_sms"
   ]
  },
  {
   "cell_type": "code",
   "execution_count": 32,
   "metadata": {},
   "outputs": [
    {
     "name": "stdout",
     "output_type": "stream",
     "text": [
      "Sending sms to  Dewey\n",
      ".\n",
      ".\n"
     ]
    }
   ],
   "source": [
    "sent_sms=send_an_sms(3761222222, 'Yo man')"
   ]
  },
  {
   "cell_type": "code",
   "execution_count": 33,
   "metadata": {},
   "outputs": [
    {
     "data": {
      "text/plain": [
       "{'Huey': {'08:38:43': 'hello', '08:38:45': 'how are you?'},\n",
       " 'Dewey': {'08:38:48': 'Yo man'}}"
      ]
     },
     "execution_count": 33,
     "metadata": {},
     "output_type": "execute_result"
    }
   ],
   "source": [
    "sent_sms"
   ]
  },
  {
   "cell_type": "code",
   "execution_count": null,
   "metadata": {},
   "outputs": [],
   "source": []
  },
  {
   "cell_type": "markdown",
   "metadata": {},
   "source": [
    "# Mobile phone v2"
   ]
  },
  {
   "cell_type": "code",
   "execution_count": 4,
   "metadata": {},
   "outputs": [],
   "source": [
    "class MobilePhone:\n",
    "    \n",
    "    operating_system='DuckOS'\n",
    "    brand='McDuck Inc.'\n",
    "    \n",
    "    def __init__(self, owner_name, phone_number):\n",
    "        self.owner=owner_name\n",
    "        self.number=phone_number\n",
    "        self.contact_list=dict()\n",
    "        self.received_calls=dict()\n",
    "        self.made_calls=dict()\n",
    "        self.received_sms=dict()\n",
    "        self.sent_sms=dict()\n",
    "    "
   ]
  },
  {
   "cell_type": "code",
   "execution_count": 5,
   "metadata": {},
   "outputs": [],
   "source": [
    "demophone=MobilePhone('demo',111)"
   ]
  },
  {
   "cell_type": "code",
   "execution_count": 6,
   "metadata": {},
   "outputs": [
    {
     "data": {
      "text/plain": [
       "'demo'"
      ]
     },
     "execution_count": 6,
     "metadata": {},
     "output_type": "execute_result"
    }
   ],
   "source": [
    "demophone.owner"
   ]
  },
  {
   "cell_type": "code",
   "execution_count": 7,
   "metadata": {},
   "outputs": [
    {
     "data": {
      "text/plain": [
       "'demo2'"
      ]
     },
     "execution_count": 7,
     "metadata": {},
     "output_type": "execute_result"
    }
   ],
   "source": [
    "demophone2=MobilePhone('demo2',112)\n",
    "\n",
    "demophone2.owner"
   ]
  },
  {
   "cell_type": "code",
   "execution_count": 8,
   "metadata": {},
   "outputs": [
    {
     "ename": "AttributeError",
     "evalue": "'MobilePhone' object has no attribute 'add_contact'",
     "output_type": "error",
     "traceback": [
      "\u001b[1;31m---------------------------------------------------------------------------\u001b[0m",
      "\u001b[1;31mAttributeError\u001b[0m                            Traceback (most recent call last)",
      "\u001b[1;32m<ipython-input-8-213d52285122>\u001b[0m in \u001b[0;36m<module>\u001b[1;34m\u001b[0m\n\u001b[1;32m----> 1\u001b[1;33m \u001b[0mdemophone\u001b[0m\u001b[1;33m.\u001b[0m\u001b[0madd_contact\u001b[0m\u001b[1;33m(\u001b[0m\u001b[0mdemophone2\u001b[0m\u001b[1;33m)\u001b[0m\u001b[1;33m\u001b[0m\u001b[1;33m\u001b[0m\u001b[0m\n\u001b[0m",
      "\u001b[1;31mAttributeError\u001b[0m: 'MobilePhone' object has no attribute 'add_contact'"
     ]
    }
   ],
   "source": [
    "demophone.add_contact(demophone2)"
   ]
  },
  {
   "cell_type": "code",
   "execution_count": 10,
   "metadata": {},
   "outputs": [],
   "source": [
    "def awesome_power(num, additional=0, power=2):\n",
    "    return num**power + additional"
   ]
  },
  {
   "cell_type": "code",
   "execution_count": 11,
   "metadata": {},
   "outputs": [
    {
     "data": {
      "text/plain": [
       "64"
      ]
     },
     "execution_count": 11,
     "metadata": {},
     "output_type": "execute_result"
    }
   ],
   "source": [
    "awesome_power(4, power=3) # I want it to be 4 to the power of 3"
   ]
  },
  {
   "cell_type": "code",
   "execution_count": 12,
   "metadata": {},
   "outputs": [],
   "source": [
    "class MobilePhone:\n",
    "    \n",
    "    operating_system='DuckOS'\n",
    "    brand='McDuck Inc.'\n",
    "    \n",
    "    def __init__(self, owner_name, phone_number):\n",
    "        self.owner=owner_name\n",
    "        self.number=phone_number\n",
    "        self.contact_list=dict()\n",
    "        self.received_calls=dict()\n",
    "        self.made_calls=dict()\n",
    "        self.received_sms=dict()\n",
    "        self.sent_sms=dict()\n",
    "    \n",
    "    def add_contact(self, recipient):\n",
    "        if recipient.owner in self.contact_list.keys(): #if the recipient's name is already stored in contact list\n",
    "            print('Sorry, this phone is already saved')\n",
    "        else:\n",
    "            self.contact_list[recipient.owner]=recipient.number\n",
    "            print('Operation is completed successfully!')\n",
    "        "
   ]
  },
  {
   "cell_type": "code",
   "execution_count": 13,
   "metadata": {},
   "outputs": [
    {
     "name": "stdout",
     "output_type": "stream",
     "text": [
      "Operation is completed successfully!\n"
     ]
    }
   ],
   "source": [
    "demophone=MobilePhone('demo',111)\n",
    "demophone2=MobilePhone('demo2',112)\n",
    "\n",
    "demophone.add_contact(demophone2)"
   ]
  },
  {
   "cell_type": "code",
   "execution_count": 14,
   "metadata": {},
   "outputs": [
    {
     "data": {
      "text/plain": [
       "{'demo2': 112}"
      ]
     },
     "execution_count": 14,
     "metadata": {},
     "output_type": "execute_result"
    }
   ],
   "source": [
    "demophone.contact_list"
   ]
  },
  {
   "cell_type": "code",
   "execution_count": null,
   "metadata": {},
   "outputs": [],
   "source": [
    "class MobilePhone:\n",
    "    \n",
    "    operating_system='DuckOS'\n",
    "    brand='McDuck Inc.'\n",
    "    \n",
    "    def __init__(self, owner_name, phone_number):\n",
    "        self.owner=owner_name\n",
    "        self.number=phone_number\n",
    "        self.contact_list=dict()\n",
    "        self.received_calls=dict()\n",
    "        self.made_calls=dict()\n",
    "        self.received_sms=dict()\n",
    "        self.sent_sms=dict()\n",
    "    \n",
    "    def add_contact(self, recipient):\n",
    "        if recipient.owner in self.contact_list.keys(): #if the recipient's name is already stored in contact list\n",
    "            print('Sorry, this phone is already saved')\n",
    "        else:\n",
    "            self.contact_list[recipient.owner]=recipient.number\n",
    "            print('Operation is completed successfully!')\n",
    "    \n",
    "    def unfriend(self, name):\n",
    "        if name in self.contact_list.keys():\n",
    "            del self.contact_list[name]\n",
    "            print('Operation is completed successfully!')\n",
    "        else:\n",
    "            print('Sorry, you dont know this name')\n",
    "        \n",
    "    "
   ]
  },
  {
   "cell_type": "code",
   "execution_count": null,
   "metadata": {},
   "outputs": [],
   "source": [
    "helene_phone = MobilePhone(\"helene\", 111) # calling the class MobilePhone which subsequently creates an object\n",
    "inigo_phone=MobilePhone('inigo',112)"
   ]
  },
  {
   "cell_type": "code",
   "execution_count": null,
   "metadata": {},
   "outputs": [],
   "source": [
    "helene_phone.contact_list"
   ]
  },
  {
   "cell_type": "code",
   "execution_count": null,
   "metadata": {},
   "outputs": [],
   "source": [
    "helene_phone.add_contact(inigo_phone)"
   ]
  },
  {
   "cell_type": "code",
   "execution_count": null,
   "metadata": {},
   "outputs": [],
   "source": [
    "helene_phone.contact_list"
   ]
  },
  {
   "cell_type": "code",
   "execution_count": null,
   "metadata": {},
   "outputs": [],
   "source": [
    "demophone.unfriend('demo2')"
   ]
  },
  {
   "cell_type": "code",
   "execution_count": null,
   "metadata": {},
   "outputs": [],
   "source": [
    "demophone.contact_list"
   ]
  },
  {
   "cell_type": "code",
   "execution_count": null,
   "metadata": {},
   "outputs": [],
   "source": [
    "demophone.unfriend('demo2')"
   ]
  },
  {
   "cell_type": "code",
   "execution_count": 49,
   "metadata": {},
   "outputs": [],
   "source": [
    "class MobilePhone:\n",
    "    import time\n",
    "    operating_system='DuckOS'\n",
    "    brand='McDuck Inc.'\n",
    "    \n",
    "    def __init__(self, owner_name, phone_number):\n",
    "        self.owner=owner_name\n",
    "        self.number=phone_number\n",
    "        self.contact_list=dict()\n",
    "        self.received_calls=dict()\n",
    "        self.made_calls=dict()\n",
    "        self.received_sms=dict()\n",
    "        self.sent_sms=dict()\n",
    "    \n",
    "    def add_contact(self, recipient):\n",
    "        if recipient.owner in self.contact_list.keys(): #if the recipient's name is already stored in contact list\n",
    "            print('Sorry, this phone is already saved')\n",
    "        else:\n",
    "            self.contact_list[recipient.owner]=recipient.number\n",
    "            print('Operation is completed successfully!')\n",
    "    \n",
    "    def unfriend(self, name):\n",
    "        if name in self.contact_list.keys():\n",
    "            del self.contact_list[name]\n",
    "            print('Operation is completed successfully!')\n",
    "        else:\n",
    "            print('Sorry, you dont know this name')\n",
    "        \n",
    "    def make_a_call(self, recipient):\n",
    "        \n",
    "        if recipient.number in self.contact_list.values():\n",
    "            name=recipient.owner\n",
    "        else:\n",
    "            name=str(recipient.number)\n",
    "        print('Dialing',name)\n",
    "        time.sleep(1)\n",
    "        print('.')\n",
    "        time.sleep(1)\n",
    "        print('.')\n",
    "        time.sleep(1)\n",
    "        print('.')\n",
    "\n",
    "        t=time.localtime()\n",
    "        current_time=time.strftime(\"%H:%M:%S\",t)\n",
    "    #    print(current_time)\n",
    "\n",
    "        self.made_calls[current_time]=name\n",
    "        \n",
    "        if self.number in recipient.contact_list.values():\n",
    "            name_r=self.owner\n",
    "        else:\n",
    "            name_r=str(self.number)      \n",
    "            \n",
    "        recipient.received_calls[current_time]=name_r\n",
    "    \n",
    "    def send_an_sms(self, recipient, text):\n",
    "        if recipient.number in self.contact_list.values():\n",
    "            name=recipient.owner\n",
    "        else:\n",
    "            name=str(recipient.number)\n",
    "        print('Sending SMS to ',name)\n",
    "        \n",
    "        # store the SMS in self.sent_sms=dict()\n",
    "        new_index=len(self.sent_sms.keys())+1\n",
    "        self.sent_sms[new_index]={name: text}\n",
    "        \n",
    "        # the recipient will receive a SMS, how to update received_sms=dict()?\n",
    "        if self.number in recipient.contact_list.values():\n",
    "            name_r=self.owner\n",
    "        else:\n",
    "            name_r=str(self.number)\n",
    "            \n",
    "        new_index_r = len(recipient.received_sms.keys())+1\n",
    "        recipient.received_sms[new_index_r]={name_r :text}\n",
    "    \n",
    "    "
   ]
  },
  {
   "cell_type": "code",
   "execution_count": 40,
   "metadata": {},
   "outputs": [
    {
     "name": "stdout",
     "output_type": "stream",
     "text": [
      "Operation is completed successfully!\n",
      "Dialing inigo\n",
      ".\n",
      ".\n",
      ".\n"
     ]
    }
   ],
   "source": [
    "helene_phone = MobilePhone(\"helene\", 111) \n",
    "inigo_phone=MobilePhone('inigo',112)\n",
    "\n",
    "helene_phone.add_contact(inigo_phone)\n",
    "\n",
    "helene_phone.make_a_call(inigo_phone)\n",
    "\n"
   ]
  },
  {
   "cell_type": "code",
   "execution_count": 41,
   "metadata": {},
   "outputs": [
    {
     "data": {
      "text/plain": [
       "{'08:39:00': 'inigo'}"
      ]
     },
     "execution_count": 41,
     "metadata": {},
     "output_type": "execute_result"
    }
   ],
   "source": [
    "helene_phone.made_calls"
   ]
  },
  {
   "cell_type": "code",
   "execution_count": 42,
   "metadata": {},
   "outputs": [
    {
     "data": {
      "text/plain": [
       "{'08:39:00': '111'}"
      ]
     },
     "execution_count": 42,
     "metadata": {},
     "output_type": "execute_result"
    }
   ],
   "source": [
    "inigo_phone.received_calls"
   ]
  },
  {
   "cell_type": "code",
   "execution_count": 43,
   "metadata": {},
   "outputs": [
    {
     "name": "stdout",
     "output_type": "stream",
     "text": [
      "Sending SMS to  inigo\n"
     ]
    }
   ],
   "source": [
    "helene_phone.send_an_sms(inigo_phone, \"heart heart heart\")"
   ]
  },
  {
   "cell_type": "code",
   "execution_count": 44,
   "metadata": {},
   "outputs": [
    {
     "data": {
      "text/plain": [
       "{0: {'inigo': 'heart heart heart'}}"
      ]
     },
     "execution_count": 44,
     "metadata": {},
     "output_type": "execute_result"
    }
   ],
   "source": [
    "helene_phone.sent_sms"
   ]
  },
  {
   "cell_type": "code",
   "execution_count": null,
   "metadata": {},
   "outputs": [],
   "source": [
    "inigo_phone.received_sms"
   ]
  },
  {
   "cell_type": "code",
   "execution_count": null,
   "metadata": {},
   "outputs": [],
   "source": []
  },
  {
   "cell_type": "code",
   "execution_count": null,
   "metadata": {},
   "outputs": [],
   "source": [
    "contact_list={'Huey':3761111111, 'Dewey':3761222222, 'Louie':3761333333}\n",
    "made_calls={}\n",
    "received_calls={}\n",
    "sent_sms={}\n",
    "received_sms={}\n",
    "\n",
    "def add_contacts(name, phone_number):\n",
    "    cl=contact_list.copy()\n",
    "    if name in cl.keys():\n",
    "        print('Sorry, this name is already occupied. Contact is not saved.')\n",
    "    else:\n",
    "        cl[name]=phone_number\n",
    "    return cl\n",
    "\n",
    "def remove_contact(name):\n",
    "    cl=contact_list.copy()\n",
    "    if name in cl.keys():\n",
    "        del cl[name]\n",
    "    else:\n",
    "        print('Sorry, you dont know this guy. ')\n",
    "    return cl\n",
    "import time\n",
    "\n",
    "def make_a_call(phone_number):\n",
    "    mc=made_calls.copy()\n",
    "    cl=contact_list.copy()\n",
    "    \n",
    "    if phone_number in cl.values():\n",
    "        name=[n for n,p in cl.items() if p==phone_number][0]\n",
    "    else:\n",
    "        name=str(phone_number)\n",
    "    print('Dialing',name)\n",
    "    time.sleep(1)\n",
    "    print('.')\n",
    "    time.sleep(1)\n",
    "    print('.')\n",
    "    time.sleep(1)\n",
    "    print('.')\n",
    "    \n",
    "    t=time.localtime()\n",
    "    current_time=time.strftime(\"%H:%M:%S\",t)\n",
    "#    print(current_time)\n",
    "    \n",
    "    mc[current_time]=name\n",
    "    return mc\n",
    "\n",
    "def send_an_sms(phone_number, text):\n",
    "    smsl=sent_sms.copy()\n",
    "    cl=contact_list.copy()\n",
    "    if phone_number in cl.values():\n",
    "        name=[n for n,p in cl.items() if p==phone_number][0]\n",
    "    else:\n",
    "        name=str(phone_number)\n",
    "    print('Sending sms to ',name)\n",
    "    time.sleep(1)\n",
    "    print('.')\n",
    "    time.sleep(1)\n",
    "    print('.')\n",
    "    t=time.localtime()\n",
    "    current_time=time.strftime(\"%H:%M:%S\",t)\n",
    "    \n",
    "    if name in smsl.keys():\n",
    "        smsl[name][current_time]=text\n",
    "    else:\n",
    "        smsl[name]={current_time:text}\n",
    "    \n",
    "    \n",
    "    return smsl"
   ]
  },
  {
   "cell_type": "code",
   "execution_count": 51,
   "metadata": {},
   "outputs": [
    {
     "data": {
      "text/plain": [
       "{0: {'111': 'heart heart heart'}}"
      ]
     },
     "execution_count": 51,
     "metadata": {},
     "output_type": "execute_result"
    }
   ],
   "source": [
    "inigo_phone.received_sms"
   ]
  }
 ],
 "metadata": {
  "kernelspec": {
   "display_name": "Python 3",
   "language": "python",
   "name": "python3"
  },
  "language_info": {
   "codemirror_mode": {
    "name": "ipython",
    "version": 3
   },
   "file_extension": ".py",
   "mimetype": "text/x-python",
   "name": "python",
   "nbconvert_exporter": "python",
   "pygments_lexer": "ipython3",
   "version": "3.8.3"
  },
  "toc": {
   "base_numbering": 1,
   "nav_menu": {},
   "number_sections": true,
   "sideBar": true,
   "skip_h1_title": false,
   "title_cell": "Table of Contents",
   "title_sidebar": "Contents",
   "toc_cell": true,
   "toc_position": {},
   "toc_section_display": true,
   "toc_window_display": false
  }
 },
 "nbformat": 4,
 "nbformat_minor": 4
}

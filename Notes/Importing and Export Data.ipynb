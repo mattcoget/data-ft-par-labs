{
 "cells": [
  {
   "cell_type": "code",
   "execution_count": 1,
   "metadata": {},
   "outputs": [],
   "source": [
    "import pandas as pd"
   ]
  },
  {
   "cell_type": "code",
   "execution_count": 2,
   "metadata": {},
   "outputs": [],
   "source": [
    "import os"
   ]
  },
  {
   "cell_type": "code",
   "execution_count": 3,
   "metadata": {},
   "outputs": [
    {
     "data": {
      "text/plain": [
       "'C:\\\\Users\\\\mcoge\\\\Downloads'"
      ]
     },
     "execution_count": 3,
     "metadata": {},
     "output_type": "execute_result"
    }
   ],
   "source": [
    "os.getcwd()"
   ]
  },
  {
   "cell_type": "code",
   "execution_count": 4,
   "metadata": {},
   "outputs": [
    {
     "data": {
      "text/plain": [
       "['.ipynb_checkpoints',\n",
       " '1.2.ipynb',\n",
       " '1.3 1111 Wednesday.ipynb',\n",
       " '1.4 1112 Thursday.ipynb',\n",
       " '1.5.ipynb',\n",
       " '11252607_919705604718286_1146382579_n.jpg',\n",
       " '2.1 Screen Shot 2016-04-17 at 12.22.49 PM.png',\n",
       " '2.1.sql',\n",
       " '2.2.sql',\n",
       " '2.3.ipynb',\n",
       " '20201115_Risk_Version_14h50.py',\n",
       " '6371010_sd.jpg',\n",
       " 'AppleStore.csv',\n",
       " 'apple_store.csv',\n",
       " 'asset-v1 Ironhack+Careerhack+Master+type@asset+block@Careerhack_info_2020.png',\n",
       " 'capture-python-rock-paper-scissors.JPG',\n",
       " 'Command Prompt Cheatsheet(1).pdf',\n",
       " 'Command Prompt Cheatsheet.pdf',\n",
       " 'dataft.pdf',\n",
       " 'desktop.ini',\n",
       " 'e8df23cc-9bfe-4776-ae54-22d67d47f15a-6442-000008859e923c5f.png',\n",
       " 'ENG Ironhack Attestation Inscription 00174.pdf',\n",
       " 'finance.zip',\n",
       " 'Git-2.28.0-64-bit.exe',\n",
       " 'GitHubDesktopSetup.exe',\n",
       " 'hungriestofb.jpg',\n",
       " 'image.png',\n",
       " 'IMG_1584.JPG',\n",
       " 'Importing and Export Data.ipynb',\n",
       " 'index.png',\n",
       " 'Lab - My first queries.sql',\n",
       " 'logo-ironhack-blue.png',\n",
       " 'main-qimg-31f5601d8190e40958311273bf8c7bf9.jpg',\n",
       " 'map2.jpg',\n",
       " 'Matthieu Coget - PAR-DA-FT-(2020-11-09)-EUR.pdf',\n",
       " 'mementopython3-english.pdf',\n",
       " 'mtcars.csv',\n",
       " 'NortonNSDownloader.exe',\n",
       " 'publications.sql',\n",
       " 'publications.sql.zip',\n",
       " 'pycharm-professional-2020.2.3.exe',\n",
       " 'python-3.9.0-amd64.exe',\n",
       " 'risk.zip',\n",
       " 'Screenshot_2020-11-10 main - Jupyter Notebook.png',\n",
       " 'Screenshot_2020-11-12 1 4 1112 Thursday - Jupyter Notebook.png',\n",
       " 'Screenshot_2020-11-12 Untitled2 - Jupyter Notebook.png',\n",
       " 'SlackSetup.exe',\n",
       " 'SWTM-2088_Atlassian-Git-Cheatsheet.pdf',\n",
       " 'TableauDesktop-64bit-2020-3-2.exe',\n",
       " 'TableauPrep-2020-3-3.exe',\n",
       " 'The.Mandalorian.S02E01.720p.DSNP.WEB-DL.AAC5.1.x264.VOSTFR.mkv',\n",
       " 'The.Mandalorian.S02E02.720p.DSNP.WEBRip.DDP5.1.Atmos.x264-NOGRP-www.tirexo.pro.mkv',\n",
       " 'The.Mandalorian.S02E03.VOSTFR.720p.WEB.H264-www.tirexo.pro.mkv',\n",
       " 'Unidialog_6135389.pdf',\n",
       " 'vehicles',\n",
       " 'vehicles.zip',\n",
       " 'weight_height.csv',\n",
       " 'Zoom-Background-Galaxys-Edge-007.jpg']"
      ]
     },
     "execution_count": 4,
     "metadata": {},
     "output_type": "execute_result"
    }
   ],
   "source": [
    "os.listdir()"
   ]
  },
  {
   "cell_type": "code",
   "execution_count": 6,
   "metadata": {},
   "outputs": [],
   "source": [
    "os.chdir('vehicles')"
   ]
  },
  {
   "cell_type": "code",
   "execution_count": 7,
   "metadata": {},
   "outputs": [
    {
     "data": {
      "text/plain": [
       "['.DS_Store',\n",
       " 'vehicles.csv',\n",
       " 'vehicles.json',\n",
       " 'vehicles.xlsx',\n",
       " 'vehicles_messy.csv',\n",
       " 'vehicles_pipe.txt',\n",
       " 'vehicles_tab.txt']"
      ]
     },
     "execution_count": 7,
     "metadata": {},
     "output_type": "execute_result"
    }
   ],
   "source": [
    "os.listdir()"
   ]
  },
  {
   "cell_type": "code",
   "execution_count": null,
   "metadata": {},
   "outputs": [],
   "source": []
  }
 ],
 "metadata": {
  "kernelspec": {
   "display_name": "Python 3",
   "language": "python",
   "name": "python3"
  },
  "language_info": {
   "codemirror_mode": {
    "name": "ipython",
    "version": 3
   },
   "file_extension": ".py",
   "mimetype": "text/x-python",
   "name": "python",
   "nbconvert_exporter": "python",
   "pygments_lexer": "ipython3",
   "version": "3.8.3"
  }
 },
 "nbformat": 4,
 "nbformat_minor": 4
}

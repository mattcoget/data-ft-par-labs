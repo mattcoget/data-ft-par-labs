{
 "cells": [
  {
   "cell_type": "markdown",
   "metadata": {},
   "source": [
    "# Before your start:\n",
    "- Read the README.md file\n",
    "- Comment as much as you can and use the resources in the README.md file\n",
    "- Happy learning!"
   ]
  },
  {
   "cell_type": "markdown",
   "metadata": {},
   "source": [
    "# Challenge 1 - Combining Strings\n",
    "\n",
    "Combining strings is an important skill to acquire. There are multiple ways of combining strings in Python, as well as combining strings with variables. We will explore this in the first challenge. In the cell below, combine the strings in the list and add spaces between the strings (do not add a space after the last string). Insert a period after the last string."
   ]
  },
  {
   "cell_type": "code",
   "execution_count": 5,
   "metadata": {},
   "outputs": [
    {
     "name": "stdout",
     "output_type": "stream",
     "text": [
      "Durante un tiempo no estuvo segura de si su marido era su marido.\n"
     ]
    }
   ],
   "source": [
    "str_list = ['Durante', 'un', 'tiempo', 'no', 'estuvo', 'segura', 'de', 'si', 'su', 'marido', 'era', 'su', 'marido']\n",
    "# Your code here:\n",
    "print(' '.join(str_list)+'.')"
   ]
  },
  {
   "cell_type": "markdown",
   "metadata": {},
   "source": [
    "In the cell below, use the list of strings to create a grocery list. Start the list with the string `Grocery list: ` and include a comma and a space between each item except for the last one. Include a period at the end. Only include foods in the list that start with the letter 'b' and ensure all foods are lower case."
   ]
  },
  {
   "cell_type": "code",
   "execution_count": 2,
   "metadata": {
    "scrolled": true
   },
   "outputs": [
    {
     "name": "stdout",
     "output_type": "stream",
     "text": [
      "bananas bread brownie mix broccoli.\n"
     ]
    }
   ],
   "source": [
    "food_list = ['Bananas', 'Chocolate', 'bread', 'diapers', 'Ice Cream', 'Brownie Mix', 'broccoli']\n",
    "# Your code here:\n",
    "Grocery_list = [i.lower() for i in food_list if i.lower().startswith('b')]\n",
    "print(' '.join(Grocery_list)+'.')"
   ]
  },
  {
   "cell_type": "markdown",
   "metadata": {},
   "source": [
    "In the cell below, write a function that computes the area of a circle using its radius. Compute the area of the circle and insert the radius and the area between the two strings. Make sure to include spaces between the variable and the strings. \n",
    "\n",
    "Note: You can use the techniques we have learned so far or use f-strings. F-strings allow us to embed code inside strings. You can read more about f-strings [here](https://www.python.org/dev/peps/pep-0498/)."
   ]
  },
  {
   "cell_type": "code",
   "execution_count": 2,
   "metadata": {},
   "outputs": [
    {
     "data": {
      "text/plain": [
       "'The area of the circle withe radius of 4.5 is 63.61725123519331'"
      ]
     },
     "execution_count": 2,
     "metadata": {},
     "output_type": "execute_result"
    }
   ],
   "source": [
    "import math\n",
    "\n",
    "string1 = \"The area of the circle with radius:\"\n",
    "string2  = \"is:\"\n",
    "radius = 4.5\n",
    "\n",
    "def area(x, pi = math.pi):\n",
    "    \"\"\"\n",
    "    This function takes a radius and returns the area of a circle. \n",
    "    We also pass a default value for pi.\n",
    "    \n",
    "    Input: Float (and default value for pi)\n",
    "    Output: Float\n",
    "    \n",
    "    Sample input: 5.0\n",
    "    Sample Output: 78.53981633\n",
    "    \"\"\"\n",
    "    \n",
    "    # Your code here:\n",
    "    return f'The area of the circle withe radius of {radius} is {radius**2 * pi}'  \n",
    "# Your output string here:\n",
    "area(5)"
   ]
  },
  {
   "cell_type": "markdown",
   "metadata": {},
   "source": [
    "# Challenge 2 - Splitting Strings\n",
    "\n",
    "We have first looked at combining strings into one long string. There are times where we need to do the opposite and split the string into smaller components for further analysis. \n",
    "\n",
    "In the cell below, split the string into a list of strings using the space delimiter. Count the frequency of each word in the string in a dictionary. Strip the periods, line breaks and commas from the text. Make sure to remove empty strings from your dictionary."
   ]
  },
  {
   "cell_type": "code",
   "execution_count": 3,
   "metadata": {},
   "outputs": [
    {
     "name": "stdout",
     "output_type": "stream",
     "text": [
      "{'with': 1, 'if': 1, 'world': 1, 'great': 1, 'those': 1, 'what': 1, 'had': 1, 'of': 2, 'who': 1, 'it': 1, 'know': 1, 'i’ve': 1, 'that': 1, 'and': 1, 'favor': 1, 'say': 3, 'fire': 2, 'end': 1, 'to': 2, 'for': 1, 'is': 1, 'desire': 1, 'ice': 2, 'hold': 1, 'twice': 1, 'from': 1, 'perish': 1, 'i': 3, 'would': 1, 'but': 1, 'in': 2, 'destruction': 1, 'also': 1, 'the': 1, 'will': 1, 'enough': 1, 'tasted': 1, 'think': 1, 'hate': 1, 'suffice': 1, 'some': 2}\n"
     ]
    }
   ],
   "source": [
    "poem = \"\"\"Some say the world will end in fire,\n",
    "Some say in ice.\n",
    "From what I’ve tasted of desire\n",
    "I hold with those who favor fire.\n",
    "But if it had to perish twice,\n",
    "I think I know enough of hate\n",
    "To say that for destruction ice\n",
    "Is also great\n",
    "And would suffice.\"\"\"\n",
    "\n",
    "# Your code here:\n",
    "clean_poem=[item.strip('.,') for item in poem.lower().split()]\n",
    "dict = {i: clean_poem.count(i) for i in set(clean_poem)}\n",
    "print(dict)"
   ]
  },
  {
   "cell_type": "markdown",
   "metadata": {},
   "source": [
    "In the cell below, find all the words that appear in the text and do not appear in the blacklist. You must parse the string but can choose any data structure you wish for the words that do not appear in the blacklist. Remove all non letter characters and convert all words to lower case."
   ]
  },
  {
   "cell_type": "code",
   "execution_count": 5,
   "metadata": {
    "scrolled": true
   },
   "outputs": [
    {
     "name": "stdout",
     "output_type": "stream",
     "text": [
      "['angry', 'both', 'tears', 'knew', 'day', 'outstretched', 'garden', 'see', 'foe', 'friend', 'wrath', 'soft', 'tree', 'waterd', 'had', 'he', 'stole', 'told', 'pole', 'veild', 'did', 'glad', 'that', 'wiles', 'beheld', 'sunned', 'not', 'deceitful', 'i', 'when', 'with', 'smiles', 'morning', 'end', 'beneath', 'bore', 'my', 'shine', 'into', 'till', 'night', 'was', 'apple', 'grow', 'bright', 'fears', '&', 'mine', 'grew']\n"
     ]
    }
   ],
   "source": [
    "blacklist = ['and', 'as', 'an', 'a', 'the', 'in', 'it']\n",
    "\n",
    "poem = \"\"\"I was angry with my friend; \n",
    "I told my wrath, my wrath did end.\n",
    "I was angry with my foe: \n",
    "I told it not, my wrath did grow. \n",
    "\n",
    "And I waterd it in fears,\n",
    "Night & morning with my tears: \n",
    "And I sunned it with smiles,\n",
    "And with soft deceitful wiles. \n",
    "\n",
    "And it grew both day and night. \n",
    "Till it bore an apple bright. \n",
    "And my foe beheld it shine,\n",
    "And he knew that it was mine. \n",
    "\n",
    "And into my garden stole, \n",
    "When the night had veild the pole; \n",
    "In the morning glad I see; \n",
    "My foe outstretched beneath the tree.\"\"\"\n",
    "\n",
    "# Your code here:\n",
    "poem_clean = list(set([item.strip('.,;:') for item in poem.lower().split()])-set(blacklist))\n",
    "print(poem_clean)"
   ]
  },
  {
   "cell_type": "code",
   "execution_count": 16,
   "metadata": {},
   "outputs": [
    {
     "name": "stdout",
     "output_type": "stream",
     "text": [
      "['I was angry with my friend; I told my wrath, my wrath did end.I was angry with my foe: I told it not, my wrath did grow. And I waterd it in fears,Night & morning with my tears: And I sunned it with smiles,And with soft deceitful wiles. And it grew both day and night. Till it bore an apple bright. And my foe beheld it shine,And he knew that it was mine. And into my garden stole, When the night had veild the pole; In the morning glad I see; My foe outstretched beneath the tree.', 'I was angry with my friend; I told my wrath, my wrath did end.I was angry with my foe: I told it not, my wrath did grow. And I waterd it in fears,Night & morning with my tears: And I sunned it with smiles,And with soft deceitful wiles. And it grew both day and night. Till it bore an apple bright. And my foe beheld it shine,And he knew that it was mine. And into my garden stole, When the night had veild the pole; In the morning glad I see; My foe outstretched beneath the tree.', 'I was angry with my friend; I told my wrath, my wrath did end.I was angry with my foe: I told it not, my wrath did grow. And I waterd it in fears,Night & morning with my tears: And I sunned it with smiles,And with soft deceitful wiles. And it grew both day and night. Till it bore an apple bright. And my foe beheld it shine,And he knew that it was mine. And into my garden stole, When the night had veild the pole; In the morning glad I see; My foe outstretched beneath the tree.', 'I was angry with my friend; I told my wrath, my wrath did end.I was angry with my foe: I told it not, my wrath did grow. And I waterd it in fears,Night & morning with my tears: And I sunned it with smiles,And with soft deceitful wiles. And it grew both day and night. Till it bore an apple bright. And my foe beheld it shine,And he knew that it was mine. And into my garden stole, When the night had veild the pole; In the morning glad I see; My foe outstretched beneath the tree.', 'I was angry with my friend; I told my wrath, my wrath did end.I was angry with my foe: I told it not, my wrath did grow. And I waterd it in fears,Night & morning with my tears: And I sunned it with smiles,And with soft deceitful wiles. And it grew both day and night. Till it bore an apple bright. And my foe beheld it shine,And he knew that it was mine. And into my garden stole, When the night had veild the pole; In the morning glad I see; My foe outstretched beneath the tree.']\n"
     ]
    }
   ],
   "source": [
    "blacklist = ['and', 'as', 'an', 'a', 'the', 'in', 'it']\n",
    "\n",
    "poem = \"\"\"I was angry with my friend; \n",
    "I told my wrath, my wrath did end.\n",
    "I was angry with my foe: \n",
    "I told it not, my wrath did grow. \n",
    "\n",
    "And I waterd it in fears,\n",
    "Night & morning with my tears: \n",
    "And I sunned it with smiles,\n",
    "And with soft deceitful wiles. \n",
    "\n",
    "And it grew both day and night. \n",
    "Till it bore an apple bright. \n",
    "And my foe beheld it shine,\n",
    "And he knew that it was mine. \n",
    "\n",
    "And into my garden stole, \n",
    "When the night had veild the pole; \n",
    "In the morning glad I see; \n",
    "My foe outstretched beneath the tree.\"\"\"\n",
    "\n",
    "# Your code here:\n",
    "poem_clean = [item for item in poem.strip('.,;:').replace('\\n','').lower().split()]\n",
    "new_poem = [poem.strip(i).replace('\\n', '') for i in blacklist if i in poem_clean]\n",
    "print(new_poem)"
   ]
  }
 ],
 "metadata": {
  "kernelspec": {
   "display_name": "Python 3",
   "language": "python",
   "name": "python3"
  },
  "language_info": {
   "codemirror_mode": {
    "name": "ipython",
    "version": 3
   },
   "file_extension": ".py",
   "mimetype": "text/x-python",
   "name": "python",
   "nbconvert_exporter": "python",
   "pygments_lexer": "ipython3",
   "version": "3.8.3"
  },
  "varInspector": {
   "cols": {
    "lenName": 16,
    "lenType": 16,
    "lenVar": 40
   },
   "kernels_config": {
    "python": {
     "delete_cmd_postfix": "",
     "delete_cmd_prefix": "del ",
     "library": "var_list.py",
     "varRefreshCmd": "print(var_dic_list())"
    },
    "r": {
     "delete_cmd_postfix": ") ",
     "delete_cmd_prefix": "rm(",
     "library": "var_list.r",
     "varRefreshCmd": "cat(var_dic_list()) "
    }
   },
   "types_to_exclude": [
    "module",
    "function",
    "builtin_function_or_method",
    "instance",
    "_Feature"
   ],
   "window_display": false
  }
 },
 "nbformat": 4,
 "nbformat_minor": 2
}
